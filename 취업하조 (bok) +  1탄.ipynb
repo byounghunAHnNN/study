{
 "cells": [
  {
   "cell_type": "code",
   "execution_count": 1,
   "id": "47900c53",
   "metadata": {},
   "outputs": [],
   "source": [
    "from bs4 import BeautifulSoup\n",
    "import requests\n",
    "from selenium import webdriver\n",
    "from selenium.webdriver.chrome.service import Service\n",
    "from selenium.webdriver.common.by import By\n",
    "import time\n",
    "import pandas as pd"
   ]
  },
  {
   "cell_type": "code",
   "execution_count": 2,
   "id": "0d76e3a1",
   "metadata": {},
   "outputs": [],
   "source": [
    "no_exp_choice = [\n",
    "    \"\"\"//*[@id=\"sp_main_wrapper\"]/div[1]/div[1]\"\"\",\n",
    "    \"\"\"//*[@id=\"sp_main_wrapper\"]/div[1]/div[1]/div/div[1]/div[1]/label\"\"\",\n",
    "    \"\"\"//*[@id=\"sp_main_wrapper\"]/div[1]/div[1]/div/div[3]/button[2]\"\"\"]\n",
    "city_choice = [\n",
    "    \"\"\"//*[@id=\"sp_main_wrapper\"]/div[2]/ul/li[2]/button/span[1]\"\"\",\n",
    "    \"\"\"//*[@id=\"depth1_btn_101000\"]/button/span[1]\"\"\",\n",
    "    \"\"\"//*[@id=\"depth1_btn_102000\"]/button/span[1]\"\"\"]\n",
    "job_choice = [\n",
    "    \"\"\"//*[@id=\"sp_main_wrapper\"]/div[2]/ul/li[1]/button/span[1]\"\"\"]"
   ]
  },
  {
   "cell_type": "code",
   "execution_count": 3,
   "id": "5f9f9cd5",
   "metadata": {},
   "outputs": [],
   "source": [
    "def option_click(xpath_list):\n",
    "    for xpath in xpath_list:\n",
    "        driver.find_element(By.XPATH, xpath).click()\n",
    "        time.sleep(1)"
   ]
  },
  {
   "cell_type": "code",
   "execution_count": 5,
   "id": "5af4b1ff",
   "metadata": {},
   "outputs": [],
   "source": [
    "driver = webdriver.Chrome(service=Service('driver/chromedriver'))\n",
    "driver.get(\"https://www.saramin.co.kr/zf_user/jobs/list/job-category\")"
   ]
  },
  {
   "cell_type": "code",
   "execution_count": 6,
   "id": "b377f112",
   "metadata": {},
   "outputs": [],
   "source": [
    "choice_list = [no_exp_choice, city_choice, job_choice]\n",
    "for choice in choice_list:\n",
    "    option_click(choice)\n",
    "    time.sleep(1)"
   ]
  },
  {
   "cell_type": "code",
   "execution_count": 7,
   "id": "1af97e0f",
   "metadata": {},
   "outputs": [
    {
     "name": "stderr",
     "output_type": "stream",
     "text": [
      "C:\\Users\\dksqu\\AppData\\Local\\Temp\\ipykernel_20464\\3849313762.py:3: DeprecationWarning: find_element_by_* commands are deprecated. Please use find_element() instead\n",
      "  element = driver.find_element_by_id(\"job_category_ipt_keyword\")\n"
     ]
    }
   ],
   "source": [
    "# 검색창에 python 입력\n",
    "skill_name = 'python'\n",
    "element = driver.find_element_by_id(\"job_category_ipt_keyword\")\n",
    "element.send_keys(skill_name)\n",
    "time.sleep(1)\n",
    "xpath = \"\"\"//*[@id=\"autocomplete_has_result\"]/div[1]/div[2]/div/ul/li[1]/div/label\"\"\"\n",
    "driver.find_element(By.XPATH, xpath).click()"
   ]
  },
  {
   "cell_type": "code",
   "execution_count": 8,
   "id": "5c92be83",
   "metadata": {},
   "outputs": [],
   "source": [
    "xpath = \"\"\"//*[@id=\"search_btn\"]\"\"\"\n",
    "driver.find_element(By.XPATH, xpath).click()"
   ]
  },
  {
   "cell_type": "markdown",
   "id": "0554197e",
   "metadata": {},
   "source": [
    "### 데이터 수집"
   ]
  },
  {
   "cell_type": "code",
   "execution_count": 9,
   "id": "60c4af3b",
   "metadata": {},
   "outputs": [],
   "source": [
    "soup = BeautifulSoup(driver.page_source, 'lxml')"
   ]
  },
  {
   "cell_type": "markdown",
   "id": "3334e6b9",
   "metadata": {},
   "source": [
    "#### 기업 이름, 링크"
   ]
  },
  {
   "cell_type": "code",
   "execution_count": 10,
   "id": "4a89cb1c",
   "metadata": {},
   "outputs": [],
   "source": [
    "company_info_soup = soup.select('div.common_recruilt_list div.col.company_nm a')\n",
    "\n",
    "company_name = []\n",
    "company_link = []\n",
    "\n",
    "for company in company_info_soup:\n",
    "    company_name.append(company.get('title'))\n",
    "    company_link.append(company.get('href'))"
   ]
  },
  {
   "cell_type": "markdown",
   "id": "5beba2f0",
   "metadata": {},
   "source": [
    "#### 공고 제목"
   ]
  },
  {
   "cell_type": "code",
   "execution_count": 11,
   "id": "9902959e",
   "metadata": {},
   "outputs": [],
   "source": [
    "title_soup = soup.select('div.common_recruilt_list div.col.notification_info a.str_tit')\n",
    "\n",
    "title = [title.get_text() for title in title_soup]"
   ]
  },
  {
   "cell_type": "markdown",
   "id": "d006e16c",
   "metadata": {},
   "source": [
    "#### 지원자격"
   ]
  },
  {
   "cell_type": "code",
   "execution_count": 12,
   "id": "8565b692",
   "metadata": {},
   "outputs": [],
   "source": [
    "education_soup = soup.select('div.common_recruilt_list div.col.recruit_condition p.education')\n",
    "education = [ condition.get_text() for condition in education_soup]"
   ]
  },
  {
   "cell_type": "markdown",
   "id": "23371be1",
   "metadata": {},
   "source": [
    "#### 지원 마감일"
   ]
  },
  {
   "cell_type": "code",
   "execution_count": 13,
   "id": "929d3e23",
   "metadata": {},
   "outputs": [],
   "source": [
    "date_soup = soup.select('div.common_recruilt_list p.deadlines')\n",
    "dates = [element.get_text() for element in date_soup]"
   ]
  },
  {
   "cell_type": "code",
   "execution_count": 14,
   "id": "2e09f9f1",
   "metadata": {},
   "outputs": [],
   "source": [
    "date_list = [date.split('(') for date in dates]"
   ]
  },
  {
   "cell_type": "code",
   "execution_count": 15,
   "id": "43df9607",
   "metadata": {},
   "outputs": [],
   "source": [
    "last_date = []\n",
    "\n",
    "for i in range(len(date_list)):\n",
    "    if len(date_list[i]) == 3:\n",
    "        date_str = '('.join(date_list[i][:2])\n",
    "    else:\n",
    "        date_str = date_list[i][0]\n",
    "    \n",
    "    last_date.append(date_str)"
   ]
  },
  {
   "cell_type": "code",
   "execution_count": 16,
   "id": "bab36be8",
   "metadata": {},
   "outputs": [],
   "source": [
    "work_place= soup.select('div.common_recruilt_list work_place')\n",
    "dates = [element.get_text() for element in date_soup]"
   ]
  },
  {
   "cell_type": "code",
   "execution_count": 17,
   "id": "1c731efd",
   "metadata": {},
   "outputs": [
    {
     "data": {
      "text/html": [
       "<div>\n",
       "<style scoped>\n",
       "    .dataframe tbody tr th:only-of-type {\n",
       "        vertical-align: middle;\n",
       "    }\n",
       "\n",
       "    .dataframe tbody tr th {\n",
       "        vertical-align: top;\n",
       "    }\n",
       "\n",
       "    .dataframe thead th {\n",
       "        text-align: right;\n",
       "    }\n",
       "</style>\n",
       "<table border=\"1\" class=\"dataframe\">\n",
       "  <thead>\n",
       "    <tr style=\"text-align: right;\">\n",
       "      <th></th>\n",
       "      <th>기업이름</th>\n",
       "      <th>공고제목</th>\n",
       "      <th>지원자격</th>\n",
       "      <th>지원마감일</th>\n",
       "      <th>링크</th>\n",
       "    </tr>\n",
       "  </thead>\n",
       "  <tbody>\n",
       "    <tr>\n",
       "      <th>0</th>\n",
       "      <td>(주)스쿨버스</td>\n",
       "      <td>(주)스쿨버스 모바일 클라이언트(플로터) 개발자 채용</td>\n",
       "      <td>학력무관</td>\n",
       "      <td>~ 04/19(화)</td>\n",
       "      <td>/zf_user/jobs/relay/view?view_type=list&amp;rec_id...</td>\n",
       "    </tr>\n",
       "    <tr>\n",
       "      <th>1</th>\n",
       "      <td>펑션베이㈜</td>\n",
       "      <td>CAE 소프트웨어 개발 / 엔지니어 모집</td>\n",
       "      <td>대학교(4년)↑</td>\n",
       "      <td>~ 04/17(일)</td>\n",
       "      <td>/zf_user/jobs/relay/view?view_type=list&amp;rec_id...</td>\n",
       "    </tr>\n",
       "    <tr>\n",
       "      <th>2</th>\n",
       "      <td>인터리젠(주)</td>\n",
       "      <td>2022년 상반기 각 부문 인재 모집</td>\n",
       "      <td>대학(2,3년)↑</td>\n",
       "      <td>~ 04/17(일)</td>\n",
       "      <td>/zf_user/jobs/relay/view?view_type=list&amp;rec_id...</td>\n",
       "    </tr>\n",
       "    <tr>\n",
       "      <th>3</th>\n",
       "      <td>(주)스칼라웍스</td>\n",
       "      <td>Data Scientist 채용 (병역특례 가능)</td>\n",
       "      <td>학력무관</td>\n",
       "      <td>~ 05/30(월)</td>\n",
       "      <td>/zf_user/jobs/relay/view?view_type=list&amp;rec_id...</td>\n",
       "    </tr>\n",
       "    <tr>\n",
       "      <th>4</th>\n",
       "      <td>(주)오픈메이트</td>\n",
       "      <td>[오픈메이트] 플랫폼사업본부 신입/경력 인재모집</td>\n",
       "      <td>학력무관</td>\n",
       "      <td>~ 04/15(금)</td>\n",
       "      <td>/zf_user/jobs/relay/view?view_type=list&amp;rec_id...</td>\n",
       "    </tr>\n",
       "  </tbody>\n",
       "</table>\n",
       "</div>"
      ],
      "text/plain": [
       "       기업이름                           공고제목       지원자격       지원마감일  \\\n",
       "0   (주)스쿨버스  (주)스쿨버스 모바일 클라이언트(플로터) 개발자 채용       학력무관  ~ 04/19(화)   \n",
       "1     펑션베이㈜         CAE 소프트웨어 개발 / 엔지니어 모집   대학교(4년)↑  ~ 04/17(일)   \n",
       "2   인터리젠(주)           2022년 상반기 각 부문 인재 모집  대학(2,3년)↑  ~ 04/17(일)   \n",
       "3  (주)스칼라웍스    Data Scientist 채용 (병역특례 가능)       학력무관  ~ 05/30(월)   \n",
       "4  (주)오픈메이트     [오픈메이트] 플랫폼사업본부 신입/경력 인재모집       학력무관  ~ 04/15(금)   \n",
       "\n",
       "                                                  링크  \n",
       "0  /zf_user/jobs/relay/view?view_type=list&rec_id...  \n",
       "1  /zf_user/jobs/relay/view?view_type=list&rec_id...  \n",
       "2  /zf_user/jobs/relay/view?view_type=list&rec_id...  \n",
       "3  /zf_user/jobs/relay/view?view_type=list&rec_id...  \n",
       "4  /zf_user/jobs/relay/view?view_type=list&rec_id...  "
      ]
     },
     "execution_count": 17,
     "metadata": {},
     "output_type": "execute_result"
    }
   ],
   "source": [
    "data = {'기업이름':company_name, '공고제목':title, '지원자격':education, \n",
    "        '지원마감일':last_date, '링크':company_link}\n",
    "df = pd.DataFrame(data)\n",
    "df.head()"
   ]
  },
  {
   "cell_type": "code",
   "execution_count": 18,
   "id": "22fb7ba2",
   "metadata": {},
   "outputs": [
    {
     "data": {
      "text/html": [
       "<div>\n",
       "<style scoped>\n",
       "    .dataframe tbody tr th:only-of-type {\n",
       "        vertical-align: middle;\n",
       "    }\n",
       "\n",
       "    .dataframe tbody tr th {\n",
       "        vertical-align: top;\n",
       "    }\n",
       "\n",
       "    .dataframe thead th {\n",
       "        text-align: right;\n",
       "    }\n",
       "</style>\n",
       "<table border=\"1\" class=\"dataframe\">\n",
       "  <thead>\n",
       "    <tr style=\"text-align: right;\">\n",
       "      <th></th>\n",
       "      <th>기업이름</th>\n",
       "      <th>공고제목</th>\n",
       "      <th>지원자격</th>\n",
       "      <th>지원마감일</th>\n",
       "      <th>링크</th>\n",
       "    </tr>\n",
       "  </thead>\n",
       "  <tbody>\n",
       "    <tr>\n",
       "      <th>45</th>\n",
       "      <td>제트핑거소프트</td>\n",
       "      <td>웹프로그래머 채용 공고</td>\n",
       "      <td>대학(2,3년)↑</td>\n",
       "      <td>~ 05/01(일)</td>\n",
       "      <td>/zf_user/jobs/relay/view?view_type=list&amp;rec_id...</td>\n",
       "    </tr>\n",
       "    <tr>\n",
       "      <th>46</th>\n",
       "      <td>국립암센터</td>\n",
       "      <td>국립암센터 인공지능사업팀 국가R&amp;D사업 연구원 모집(신입/경력)</td>\n",
       "      <td>학력무관</td>\n",
       "      <td>~ 04/15(금)</td>\n",
       "      <td>/zf_user/jobs/relay/view?view_type=list&amp;rec_id...</td>\n",
       "    </tr>\n",
       "    <tr>\n",
       "      <th>47</th>\n",
       "      <td>(주)컴트루테크놀로지</td>\n",
       "      <td>[AI인공지능] 딥러닝 아키텍쳐 개발 부문</td>\n",
       "      <td>대학교(4년)↑</td>\n",
       "      <td>~ 04/10(일)</td>\n",
       "      <td>/zf_user/jobs/relay/view?view_type=list&amp;rec_id...</td>\n",
       "    </tr>\n",
       "    <tr>\n",
       "      <th>48</th>\n",
       "      <td>(주)컴트루테크놀로지</td>\n",
       "      <td>[인공지능 정보보안] 개발자 부문 - Web, Spring, C/C++</td>\n",
       "      <td>대학교(4년)↑</td>\n",
       "      <td>~ 04/10(일)</td>\n",
       "      <td>/zf_user/jobs/relay/view?view_type=list&amp;rec_id...</td>\n",
       "    </tr>\n",
       "    <tr>\n",
       "      <th>49</th>\n",
       "      <td>(주)윅슨어소시에이츠</td>\n",
       "      <td>웹개발(PHP/백엔드) 1명 추가 채용,전원 재택근무</td>\n",
       "      <td>대학(2,3년)↑</td>\n",
       "      <td>~ 04/20(수)</td>\n",
       "      <td>/zf_user/jobs/relay/view?view_type=list&amp;rec_id...</td>\n",
       "    </tr>\n",
       "  </tbody>\n",
       "</table>\n",
       "</div>"
      ],
      "text/plain": [
       "           기업이름                                     공고제목       지원자격  \\\n",
       "45      제트핑거소프트                             웹프로그래머 채용 공고  대학(2,3년)↑   \n",
       "46        국립암센터      국립암센터 인공지능사업팀 국가R&D사업 연구원 모집(신입/경력)       학력무관   \n",
       "47  (주)컴트루테크놀로지                  [AI인공지능] 딥러닝 아키텍쳐 개발 부문   대학교(4년)↑   \n",
       "48  (주)컴트루테크놀로지  [인공지능 정보보안] 개발자 부문 - Web, Spring, C/C++   대학교(4년)↑   \n",
       "49  (주)윅슨어소시에이츠            웹개발(PHP/백엔드) 1명 추가 채용,전원 재택근무  대학(2,3년)↑   \n",
       "\n",
       "         지원마감일                                                 링크  \n",
       "45  ~ 05/01(일)  /zf_user/jobs/relay/view?view_type=list&rec_id...  \n",
       "46  ~ 04/15(금)  /zf_user/jobs/relay/view?view_type=list&rec_id...  \n",
       "47  ~ 04/10(일)  /zf_user/jobs/relay/view?view_type=list&rec_id...  \n",
       "48  ~ 04/10(일)  /zf_user/jobs/relay/view?view_type=list&rec_id...  \n",
       "49  ~ 04/20(수)  /zf_user/jobs/relay/view?view_type=list&rec_id...  "
      ]
     },
     "execution_count": 18,
     "metadata": {},
     "output_type": "execute_result"
    }
   ],
   "source": [
    "df.tail()"
   ]
  },
  {
   "cell_type": "code",
   "execution_count": 19,
   "id": "9ab6e4e6",
   "metadata": {},
   "outputs": [],
   "source": [
    "work_place = soup.select('div.common_recruilt_list p.work_place')\n",
    "dates = [element.get_text() for element in work_place]"
   ]
  },
  {
   "cell_type": "code",
   "execution_count": 20,
   "id": "c41412a6",
   "metadata": {},
   "outputs": [
    {
     "name": "stdout",
     "output_type": "stream",
     "text": [
      "50\n"
     ]
    }
   ],
   "source": [
    "print(len(work_place))"
   ]
  },
  {
   "cell_type": "code",
   "execution_count": 21,
   "id": "db81df42",
   "metadata": {},
   "outputs": [
    {
     "name": "stdout",
     "output_type": "stream",
     "text": [
      "['서울 마포구', '경기 성남시 분당구', '서울 강남구', '서울 금천구', '서울 서대문구', '서울 강남구', '서울 강남구', '경기 고양시 덕양구', '서울 성동구', '서울전체', '서울전체', '서울 양천구', '경기 성남시 분당구', '경기 안산시 단원구', '서울 강남구', '서울 금천구', '서울 금천구', '서울 금천구', '서울 금천구', '서울 금천구', '경기 성남시 분당구', '서울 영등포구', '서울 마포구', '서울 강남구', '경기 성남시 분당구', '경기 안양시 동안구', '경기 고양시 일산서구', '서울 용산구', '서울 서초구', '서울 영등포구', '경기 성남시 분당구', '서울전체', '서울 금천구', '서울 강남구', '서울전체', '경기 성남시 분당구', '경기 성남시 분당구', '서울 영등포구', '서울 강남구', '서울 강서구', '서울 구로구', '경기 성남시 수정구', '경기 하남시', '서울 강남구', '서울 중구', '인천 부평구', '경기 고양시 일산동구', '서울 마포구', '서울 마포구', '서울 마포구']\n"
     ]
    }
   ],
   "source": [
    "education = [element.get_text() for element in work_place]\n",
    "print(education)"
   ]
  },
  {
   "cell_type": "code",
   "execution_count": 22,
   "id": "fbe2fe71",
   "metadata": {},
   "outputs": [
    {
     "data": {
      "text/html": [
       "<div>\n",
       "<style scoped>\n",
       "    .dataframe tbody tr th:only-of-type {\n",
       "        vertical-align: middle;\n",
       "    }\n",
       "\n",
       "    .dataframe tbody tr th {\n",
       "        vertical-align: top;\n",
       "    }\n",
       "\n",
       "    .dataframe thead th {\n",
       "        text-align: right;\n",
       "    }\n",
       "</style>\n",
       "<table border=\"1\" class=\"dataframe\">\n",
       "  <thead>\n",
       "    <tr style=\"text-align: right;\">\n",
       "      <th></th>\n",
       "      <th>기업이름</th>\n",
       "      <th>공고제목</th>\n",
       "      <th>지원자격</th>\n",
       "      <th>지원마감일</th>\n",
       "      <th>링크</th>\n",
       "      <th>주소</th>\n",
       "    </tr>\n",
       "  </thead>\n",
       "  <tbody>\n",
       "    <tr>\n",
       "      <th>0</th>\n",
       "      <td>(주)스쿨버스</td>\n",
       "      <td>(주)스쿨버스 모바일 클라이언트(플로터) 개발자 채용</td>\n",
       "      <td>서울 마포구</td>\n",
       "      <td>~ 04/19(화)</td>\n",
       "      <td>/zf_user/jobs/relay/view?view_type=list&amp;rec_id...</td>\n",
       "      <td>[서울 마포구]</td>\n",
       "    </tr>\n",
       "    <tr>\n",
       "      <th>1</th>\n",
       "      <td>펑션베이㈜</td>\n",
       "      <td>CAE 소프트웨어 개발 / 엔지니어 모집</td>\n",
       "      <td>경기 성남시 분당구</td>\n",
       "      <td>~ 04/17(일)</td>\n",
       "      <td>/zf_user/jobs/relay/view?view_type=list&amp;rec_id...</td>\n",
       "      <td>[경기 성남시 분당구]</td>\n",
       "    </tr>\n",
       "    <tr>\n",
       "      <th>2</th>\n",
       "      <td>인터리젠(주)</td>\n",
       "      <td>2022년 상반기 각 부문 인재 모집</td>\n",
       "      <td>서울 강남구</td>\n",
       "      <td>~ 04/17(일)</td>\n",
       "      <td>/zf_user/jobs/relay/view?view_type=list&amp;rec_id...</td>\n",
       "      <td>[서울 강남구]</td>\n",
       "    </tr>\n",
       "    <tr>\n",
       "      <th>3</th>\n",
       "      <td>(주)스칼라웍스</td>\n",
       "      <td>Data Scientist 채용 (병역특례 가능)</td>\n",
       "      <td>서울 금천구</td>\n",
       "      <td>~ 05/30(월)</td>\n",
       "      <td>/zf_user/jobs/relay/view?view_type=list&amp;rec_id...</td>\n",
       "      <td>[서울 금천구]</td>\n",
       "    </tr>\n",
       "    <tr>\n",
       "      <th>4</th>\n",
       "      <td>(주)오픈메이트</td>\n",
       "      <td>[오픈메이트] 플랫폼사업본부 신입/경력 인재모집</td>\n",
       "      <td>서울 서대문구</td>\n",
       "      <td>~ 04/15(금)</td>\n",
       "      <td>/zf_user/jobs/relay/view?view_type=list&amp;rec_id...</td>\n",
       "      <td>[서울 서대문구]</td>\n",
       "    </tr>\n",
       "  </tbody>\n",
       "</table>\n",
       "</div>"
      ],
      "text/plain": [
       "       기업이름                           공고제목        지원자격       지원마감일  \\\n",
       "0   (주)스쿨버스  (주)스쿨버스 모바일 클라이언트(플로터) 개발자 채용      서울 마포구  ~ 04/19(화)   \n",
       "1     펑션베이㈜         CAE 소프트웨어 개발 / 엔지니어 모집  경기 성남시 분당구  ~ 04/17(일)   \n",
       "2   인터리젠(주)           2022년 상반기 각 부문 인재 모집      서울 강남구  ~ 04/17(일)   \n",
       "3  (주)스칼라웍스    Data Scientist 채용 (병역특례 가능)      서울 금천구  ~ 05/30(월)   \n",
       "4  (주)오픈메이트     [오픈메이트] 플랫폼사업본부 신입/경력 인재모집     서울 서대문구  ~ 04/15(금)   \n",
       "\n",
       "                                                  링크            주소  \n",
       "0  /zf_user/jobs/relay/view?view_type=list&rec_id...      [서울 마포구]  \n",
       "1  /zf_user/jobs/relay/view?view_type=list&rec_id...  [경기 성남시 분당구]  \n",
       "2  /zf_user/jobs/relay/view?view_type=list&rec_id...      [서울 강남구]  \n",
       "3  /zf_user/jobs/relay/view?view_type=list&rec_id...      [서울 금천구]  \n",
       "4  /zf_user/jobs/relay/view?view_type=list&rec_id...     [서울 서대문구]  "
      ]
     },
     "execution_count": 22,
     "metadata": {},
     "output_type": "execute_result"
    }
   ],
   "source": [
    "data = {'기업이름':company_name, '공고제목':title, '지원자격':education, \n",
    "        '지원마감일':last_date, '링크':company_link,\n",
    "        '주소': work_place}\n",
    "    \n",
    "df = pd.DataFrame(data)\n",
    "df.head()"
   ]
  },
  {
   "cell_type": "code",
   "execution_count": 23,
   "id": "9993b346",
   "metadata": {},
   "outputs": [
    {
     "data": {
      "text/html": [
       "<div>\n",
       "<style scoped>\n",
       "    .dataframe tbody tr th:only-of-type {\n",
       "        vertical-align: middle;\n",
       "    }\n",
       "\n",
       "    .dataframe tbody tr th {\n",
       "        vertical-align: top;\n",
       "    }\n",
       "\n",
       "    .dataframe thead th {\n",
       "        text-align: right;\n",
       "    }\n",
       "</style>\n",
       "<table border=\"1\" class=\"dataframe\">\n",
       "  <thead>\n",
       "    <tr style=\"text-align: right;\">\n",
       "      <th></th>\n",
       "      <th>기업이름</th>\n",
       "      <th>공고제목</th>\n",
       "      <th>지원자격</th>\n",
       "      <th>지원마감일</th>\n",
       "      <th>링크</th>\n",
       "      <th>주소</th>\n",
       "    </tr>\n",
       "  </thead>\n",
       "  <tbody>\n",
       "    <tr>\n",
       "      <th>45</th>\n",
       "      <td>제트핑거소프트</td>\n",
       "      <td>웹프로그래머 채용 공고</td>\n",
       "      <td>인천 부평구</td>\n",
       "      <td>~ 05/01(일)</td>\n",
       "      <td>/zf_user/jobs/relay/view?view_type=list&amp;rec_id...</td>\n",
       "      <td>[인천 부평구]</td>\n",
       "    </tr>\n",
       "    <tr>\n",
       "      <th>46</th>\n",
       "      <td>국립암센터</td>\n",
       "      <td>국립암센터 인공지능사업팀 국가R&amp;D사업 연구원 모집(신입/경력)</td>\n",
       "      <td>경기 고양시 일산동구</td>\n",
       "      <td>~ 04/15(금)</td>\n",
       "      <td>/zf_user/jobs/relay/view?view_type=list&amp;rec_id...</td>\n",
       "      <td>[경기 고양시 일산동구]</td>\n",
       "    </tr>\n",
       "    <tr>\n",
       "      <th>47</th>\n",
       "      <td>(주)컴트루테크놀로지</td>\n",
       "      <td>[AI인공지능] 딥러닝 아키텍쳐 개발 부문</td>\n",
       "      <td>서울 마포구</td>\n",
       "      <td>~ 04/10(일)</td>\n",
       "      <td>/zf_user/jobs/relay/view?view_type=list&amp;rec_id...</td>\n",
       "      <td>[서울 마포구]</td>\n",
       "    </tr>\n",
       "    <tr>\n",
       "      <th>48</th>\n",
       "      <td>(주)컴트루테크놀로지</td>\n",
       "      <td>[인공지능 정보보안] 개발자 부문 - Web, Spring, C/C++</td>\n",
       "      <td>서울 마포구</td>\n",
       "      <td>~ 04/10(일)</td>\n",
       "      <td>/zf_user/jobs/relay/view?view_type=list&amp;rec_id...</td>\n",
       "      <td>[서울 마포구]</td>\n",
       "    </tr>\n",
       "    <tr>\n",
       "      <th>49</th>\n",
       "      <td>(주)윅슨어소시에이츠</td>\n",
       "      <td>웹개발(PHP/백엔드) 1명 추가 채용,전원 재택근무</td>\n",
       "      <td>서울 마포구</td>\n",
       "      <td>~ 04/20(수)</td>\n",
       "      <td>/zf_user/jobs/relay/view?view_type=list&amp;rec_id...</td>\n",
       "      <td>[서울 마포구]</td>\n",
       "    </tr>\n",
       "  </tbody>\n",
       "</table>\n",
       "</div>"
      ],
      "text/plain": [
       "           기업이름                                     공고제목         지원자격  \\\n",
       "45      제트핑거소프트                             웹프로그래머 채용 공고       인천 부평구   \n",
       "46        국립암센터      국립암센터 인공지능사업팀 국가R&D사업 연구원 모집(신입/경력)  경기 고양시 일산동구   \n",
       "47  (주)컴트루테크놀로지                  [AI인공지능] 딥러닝 아키텍쳐 개발 부문       서울 마포구   \n",
       "48  (주)컴트루테크놀로지  [인공지능 정보보안] 개발자 부문 - Web, Spring, C/C++       서울 마포구   \n",
       "49  (주)윅슨어소시에이츠            웹개발(PHP/백엔드) 1명 추가 채용,전원 재택근무       서울 마포구   \n",
       "\n",
       "         지원마감일                                                 링크  \\\n",
       "45  ~ 05/01(일)  /zf_user/jobs/relay/view?view_type=list&rec_id...   \n",
       "46  ~ 04/15(금)  /zf_user/jobs/relay/view?view_type=list&rec_id...   \n",
       "47  ~ 04/10(일)  /zf_user/jobs/relay/view?view_type=list&rec_id...   \n",
       "48  ~ 04/10(일)  /zf_user/jobs/relay/view?view_type=list&rec_id...   \n",
       "49  ~ 04/20(수)  /zf_user/jobs/relay/view?view_type=list&rec_id...   \n",
       "\n",
       "               주소  \n",
       "45       [인천 부평구]  \n",
       "46  [경기 고양시 일산동구]  \n",
       "47       [서울 마포구]  \n",
       "48       [서울 마포구]  \n",
       "49       [서울 마포구]  "
      ]
     },
     "execution_count": 23,
     "metadata": {},
     "output_type": "execute_result"
    }
   ],
   "source": [
    "df.tail()"
   ]
  },
  {
   "cell_type": "code",
   "execution_count": 24,
   "id": "2737f62f",
   "metadata": {},
   "outputs": [
    {
     "name": "stdout",
     "output_type": "stream",
     "text": [
      "[<p class=\"work_place\">서울 마포구</p>, <p class=\"work_place\">경기 성남시 분당구</p>, <p class=\"work_place\">서울 강남구</p>, <p class=\"work_place\">서울 금천구</p>, <p class=\"work_place\">서울 서대문구</p>, <p class=\"work_place\">서울 강남구</p>, <p class=\"work_place\">서울 강남구</p>, <p class=\"work_place\">경기 고양시 덕양구</p>, <p class=\"work_place\">서울 성동구</p>, <p class=\"work_place\">서울전체</p>, <p class=\"work_place\">서울전체</p>, <p class=\"work_place\">서울 양천구</p>, <p class=\"work_place\">경기 성남시 분당구</p>, <p class=\"work_place\">경기 안산시 단원구</p>, <p class=\"work_place\">서울 강남구</p>, <p class=\"work_place\">서울 금천구</p>, <p class=\"work_place\">서울 금천구</p>, <p class=\"work_place\">서울 금천구</p>, <p class=\"work_place\">서울 금천구</p>, <p class=\"work_place\">서울 금천구</p>, <p class=\"work_place\">경기 성남시 분당구</p>, <p class=\"work_place\">서울 영등포구</p>, <p class=\"work_place\">서울 마포구</p>, <p class=\"work_place\">서울 강남구</p>, <p class=\"work_place\">경기 성남시 분당구</p>, <p class=\"work_place\">경기 안양시 동안구</p>, <p class=\"work_place\">경기 고양시 일산서구</p>, <p class=\"work_place\">서울 용산구</p>, <p class=\"work_place\">서울 서초구</p>, <p class=\"work_place\">서울 영등포구</p>, <p class=\"work_place\">경기 성남시 분당구</p>, <p class=\"work_place\">서울전체</p>, <p class=\"work_place\">서울 금천구</p>, <p class=\"work_place\">서울 강남구</p>, <p class=\"work_place\">서울전체</p>, <p class=\"work_place\">경기 성남시 분당구</p>, <p class=\"work_place\">경기 성남시 분당구</p>, <p class=\"work_place\">서울 영등포구</p>, <p class=\"work_place\">서울 강남구</p>, <p class=\"work_place\">서울 강서구</p>, <p class=\"work_place\">서울 구로구</p>, <p class=\"work_place\">경기 성남시 수정구</p>, <p class=\"work_place\">경기 하남시</p>, <p class=\"work_place\">서울 강남구</p>, <p class=\"work_place\">서울 중구</p>, <p class=\"work_place\">인천 부평구</p>, <p class=\"work_place\">경기 고양시 일산동구</p>, <p class=\"work_place\">서울 마포구</p>, <p class=\"work_place\">서울 마포구</p>, <p class=\"work_place\">서울 마포구</p>]\n",
      "[<p class=\"work_place\">서울 마포구</p>, <p class=\"work_place\">경기 성남시 분당구</p>, <p class=\"work_place\">서울 강남구</p>, <p class=\"work_place\">서울 금천구</p>, <p class=\"work_place\">서울 서대문구</p>, <p class=\"work_place\">서울 강남구</p>, <p class=\"work_place\">서울 강남구</p>, <p class=\"work_place\">경기 고양시 덕양구</p>, <p class=\"work_place\">서울 성동구</p>, <p class=\"work_place\">서울전체</p>, <p class=\"work_place\">서울전체</p>, <p class=\"work_place\">서울 양천구</p>, <p class=\"work_place\">경기 성남시 분당구</p>, <p class=\"work_place\">경기 안산시 단원구</p>, <p class=\"work_place\">서울 강남구</p>, <p class=\"work_place\">서울 금천구</p>, <p class=\"work_place\">서울 금천구</p>, <p class=\"work_place\">서울 금천구</p>, <p class=\"work_place\">서울 금천구</p>, <p class=\"work_place\">서울 금천구</p>, <p class=\"work_place\">경기 성남시 분당구</p>, <p class=\"work_place\">서울 영등포구</p>, <p class=\"work_place\">서울 마포구</p>, <p class=\"work_place\">서울 강남구</p>, <p class=\"work_place\">경기 성남시 분당구</p>, <p class=\"work_place\">경기 안양시 동안구</p>, <p class=\"work_place\">경기 고양시 일산서구</p>, <p class=\"work_place\">서울 용산구</p>, <p class=\"work_place\">서울 서초구</p>, <p class=\"work_place\">서울 영등포구</p>, <p class=\"work_place\">경기 성남시 분당구</p>, <p class=\"work_place\">서울전체</p>, <p class=\"work_place\">서울 금천구</p>, <p class=\"work_place\">서울 강남구</p>, <p class=\"work_place\">서울전체</p>, <p class=\"work_place\">경기 성남시 분당구</p>, <p class=\"work_place\">경기 성남시 분당구</p>, <p class=\"work_place\">서울 영등포구</p>, <p class=\"work_place\">서울 강남구</p>, <p class=\"work_place\">서울 강서구</p>, <p class=\"work_place\">서울 구로구</p>, <p class=\"work_place\">경기 성남시 수정구</p>, <p class=\"work_place\">경기 하남시</p>, <p class=\"work_place\">서울 강남구</p>, <p class=\"work_place\">서울 중구</p>, <p class=\"work_place\">인천 부평구</p>, <p class=\"work_place\">경기 고양시 일산동구</p>, <p class=\"work_place\">서울 마포구</p>, <p class=\"work_place\">서울 마포구</p>, <p class=\"work_place\">서울 마포구</p>]\n",
      "[<p class=\"work_place\">서울 마포구</p>, <p class=\"work_place\">경기 성남시 분당구</p>, <p class=\"work_place\">서울 강남구</p>, <p class=\"work_place\">서울 금천구</p>, <p class=\"work_place\">서울 서대문구</p>, <p class=\"work_place\">서울 강남구</p>, <p class=\"work_place\">서울 강남구</p>, <p class=\"work_place\">경기 고양시 덕양구</p>, <p class=\"work_place\">서울 성동구</p>, <p class=\"work_place\">서울전체</p>, <p class=\"work_place\">서울전체</p>, <p class=\"work_place\">서울 양천구</p>, <p class=\"work_place\">경기 성남시 분당구</p>, <p class=\"work_place\">경기 안산시 단원구</p>, <p class=\"work_place\">서울 강남구</p>, <p class=\"work_place\">서울 금천구</p>, <p class=\"work_place\">서울 금천구</p>, <p class=\"work_place\">서울 금천구</p>, <p class=\"work_place\">서울 금천구</p>, <p class=\"work_place\">서울 금천구</p>, <p class=\"work_place\">경기 성남시 분당구</p>, <p class=\"work_place\">서울 영등포구</p>, <p class=\"work_place\">서울 마포구</p>, <p class=\"work_place\">서울 강남구</p>, <p class=\"work_place\">경기 성남시 분당구</p>, <p class=\"work_place\">경기 안양시 동안구</p>, <p class=\"work_place\">경기 고양시 일산서구</p>, <p class=\"work_place\">서울 용산구</p>, <p class=\"work_place\">서울 서초구</p>, <p class=\"work_place\">서울 영등포구</p>, <p class=\"work_place\">경기 성남시 분당구</p>, <p class=\"work_place\">서울전체</p>, <p class=\"work_place\">서울 금천구</p>, <p class=\"work_place\">서울 강남구</p>, <p class=\"work_place\">서울전체</p>, <p class=\"work_place\">경기 성남시 분당구</p>, <p class=\"work_place\">경기 성남시 분당구</p>, <p class=\"work_place\">서울 영등포구</p>, <p class=\"work_place\">서울 강남구</p>, <p class=\"work_place\">서울 강서구</p>, <p class=\"work_place\">서울 구로구</p>, <p class=\"work_place\">경기 성남시 수정구</p>, <p class=\"work_place\">경기 하남시</p>, <p class=\"work_place\">서울 강남구</p>, <p class=\"work_place\">서울 중구</p>, <p class=\"work_place\">인천 부평구</p>, <p class=\"work_place\">경기 고양시 일산동구</p>, <p class=\"work_place\">서울 마포구</p>, <p class=\"work_place\">서울 마포구</p>, <p class=\"work_place\">서울 마포구</p>]\n",
      "[<p class=\"work_place\">서울 마포구</p>, <p class=\"work_place\">경기 성남시 분당구</p>, <p class=\"work_place\">서울 강남구</p>, <p class=\"work_place\">서울 금천구</p>, <p class=\"work_place\">서울 서대문구</p>, <p class=\"work_place\">서울 강남구</p>, <p class=\"work_place\">서울 강남구</p>, <p class=\"work_place\">경기 고양시 덕양구</p>, <p class=\"work_place\">서울 성동구</p>, <p class=\"work_place\">서울전체</p>, <p class=\"work_place\">서울전체</p>, <p class=\"work_place\">서울 양천구</p>, <p class=\"work_place\">경기 성남시 분당구</p>, <p class=\"work_place\">경기 안산시 단원구</p>, <p class=\"work_place\">서울 강남구</p>, <p class=\"work_place\">서울 금천구</p>, <p class=\"work_place\">서울 금천구</p>, <p class=\"work_place\">서울 금천구</p>, <p class=\"work_place\">서울 금천구</p>, <p class=\"work_place\">서울 금천구</p>, <p class=\"work_place\">경기 성남시 분당구</p>, <p class=\"work_place\">서울 영등포구</p>, <p class=\"work_place\">서울 마포구</p>, <p class=\"work_place\">서울 강남구</p>, <p class=\"work_place\">경기 성남시 분당구</p>, <p class=\"work_place\">경기 안양시 동안구</p>, <p class=\"work_place\">경기 고양시 일산서구</p>, <p class=\"work_place\">서울 용산구</p>, <p class=\"work_place\">서울 서초구</p>, <p class=\"work_place\">서울 영등포구</p>, <p class=\"work_place\">경기 성남시 분당구</p>, <p class=\"work_place\">서울전체</p>, <p class=\"work_place\">서울 금천구</p>, <p class=\"work_place\">서울 강남구</p>, <p class=\"work_place\">서울전체</p>, <p class=\"work_place\">경기 성남시 분당구</p>, <p class=\"work_place\">경기 성남시 분당구</p>, <p class=\"work_place\">서울 영등포구</p>, <p class=\"work_place\">서울 강남구</p>, <p class=\"work_place\">서울 강서구</p>, <p class=\"work_place\">서울 구로구</p>, <p class=\"work_place\">경기 성남시 수정구</p>, <p class=\"work_place\">경기 하남시</p>, <p class=\"work_place\">서울 강남구</p>, <p class=\"work_place\">서울 중구</p>, <p class=\"work_place\">인천 부평구</p>, <p class=\"work_place\">경기 고양시 일산동구</p>, <p class=\"work_place\">서울 마포구</p>, <p class=\"work_place\">서울 마포구</p>, <p class=\"work_place\">서울 마포구</p>]\n",
      "[<p class=\"work_place\">서울 마포구</p>, <p class=\"work_place\">경기 성남시 분당구</p>, <p class=\"work_place\">서울 강남구</p>, <p class=\"work_place\">서울 금천구</p>, <p class=\"work_place\">서울 서대문구</p>, <p class=\"work_place\">서울 강남구</p>, <p class=\"work_place\">서울 강남구</p>, <p class=\"work_place\">경기 고양시 덕양구</p>, <p class=\"work_place\">서울 성동구</p>, <p class=\"work_place\">서울전체</p>, <p class=\"work_place\">서울전체</p>, <p class=\"work_place\">서울 양천구</p>, <p class=\"work_place\">경기 성남시 분당구</p>, <p class=\"work_place\">경기 안산시 단원구</p>, <p class=\"work_place\">서울 강남구</p>, <p class=\"work_place\">서울 금천구</p>, <p class=\"work_place\">서울 금천구</p>, <p class=\"work_place\">서울 금천구</p>, <p class=\"work_place\">서울 금천구</p>, <p class=\"work_place\">서울 금천구</p>, <p class=\"work_place\">경기 성남시 분당구</p>, <p class=\"work_place\">서울 영등포구</p>, <p class=\"work_place\">서울 마포구</p>, <p class=\"work_place\">서울 강남구</p>, <p class=\"work_place\">경기 성남시 분당구</p>, <p class=\"work_place\">경기 안양시 동안구</p>, <p class=\"work_place\">경기 고양시 일산서구</p>, <p class=\"work_place\">서울 용산구</p>, <p class=\"work_place\">서울 서초구</p>, <p class=\"work_place\">서울 영등포구</p>, <p class=\"work_place\">경기 성남시 분당구</p>, <p class=\"work_place\">서울전체</p>, <p class=\"work_place\">서울 금천구</p>, <p class=\"work_place\">서울 강남구</p>, <p class=\"work_place\">서울전체</p>, <p class=\"work_place\">경기 성남시 분당구</p>, <p class=\"work_place\">경기 성남시 분당구</p>, <p class=\"work_place\">서울 영등포구</p>, <p class=\"work_place\">서울 강남구</p>, <p class=\"work_place\">서울 강서구</p>, <p class=\"work_place\">서울 구로구</p>, <p class=\"work_place\">경기 성남시 수정구</p>, <p class=\"work_place\">경기 하남시</p>, <p class=\"work_place\">서울 강남구</p>, <p class=\"work_place\">서울 중구</p>, <p class=\"work_place\">인천 부평구</p>, <p class=\"work_place\">경기 고양시 일산동구</p>, <p class=\"work_place\">서울 마포구</p>, <p class=\"work_place\">서울 마포구</p>, <p class=\"work_place\">서울 마포구</p>]\n",
      "[<p class=\"work_place\">서울 마포구</p>, <p class=\"work_place\">경기 성남시 분당구</p>, <p class=\"work_place\">서울 강남구</p>, <p class=\"work_place\">서울 금천구</p>, <p class=\"work_place\">서울 서대문구</p>, <p class=\"work_place\">서울 강남구</p>, <p class=\"work_place\">서울 강남구</p>, <p class=\"work_place\">경기 고양시 덕양구</p>, <p class=\"work_place\">서울 성동구</p>, <p class=\"work_place\">서울전체</p>, <p class=\"work_place\">서울전체</p>, <p class=\"work_place\">서울 양천구</p>, <p class=\"work_place\">경기 성남시 분당구</p>, <p class=\"work_place\">경기 안산시 단원구</p>, <p class=\"work_place\">서울 강남구</p>, <p class=\"work_place\">서울 금천구</p>, <p class=\"work_place\">서울 금천구</p>, <p class=\"work_place\">서울 금천구</p>, <p class=\"work_place\">서울 금천구</p>, <p class=\"work_place\">서울 금천구</p>, <p class=\"work_place\">경기 성남시 분당구</p>, <p class=\"work_place\">서울 영등포구</p>, <p class=\"work_place\">서울 마포구</p>, <p class=\"work_place\">서울 강남구</p>, <p class=\"work_place\">경기 성남시 분당구</p>, <p class=\"work_place\">경기 안양시 동안구</p>, <p class=\"work_place\">경기 고양시 일산서구</p>, <p class=\"work_place\">서울 용산구</p>, <p class=\"work_place\">서울 서초구</p>, <p class=\"work_place\">서울 영등포구</p>, <p class=\"work_place\">경기 성남시 분당구</p>, <p class=\"work_place\">서울전체</p>, <p class=\"work_place\">서울 금천구</p>, <p class=\"work_place\">서울 강남구</p>, <p class=\"work_place\">서울전체</p>, <p class=\"work_place\">경기 성남시 분당구</p>, <p class=\"work_place\">경기 성남시 분당구</p>, <p class=\"work_place\">서울 영등포구</p>, <p class=\"work_place\">서울 강남구</p>, <p class=\"work_place\">서울 강서구</p>, <p class=\"work_place\">서울 구로구</p>, <p class=\"work_place\">경기 성남시 수정구</p>, <p class=\"work_place\">경기 하남시</p>, <p class=\"work_place\">서울 강남구</p>, <p class=\"work_place\">서울 중구</p>, <p class=\"work_place\">인천 부평구</p>, <p class=\"work_place\">경기 고양시 일산동구</p>, <p class=\"work_place\">서울 마포구</p>, <p class=\"work_place\">서울 마포구</p>, <p class=\"work_place\">서울 마포구</p>]\n",
      "[<p class=\"work_place\">서울 마포구</p>, <p class=\"work_place\">경기 성남시 분당구</p>, <p class=\"work_place\">서울 강남구</p>, <p class=\"work_place\">서울 금천구</p>, <p class=\"work_place\">서울 서대문구</p>, <p class=\"work_place\">서울 강남구</p>, <p class=\"work_place\">서울 강남구</p>, <p class=\"work_place\">경기 고양시 덕양구</p>, <p class=\"work_place\">서울 성동구</p>, <p class=\"work_place\">서울전체</p>, <p class=\"work_place\">서울전체</p>, <p class=\"work_place\">서울 양천구</p>, <p class=\"work_place\">경기 성남시 분당구</p>, <p class=\"work_place\">경기 안산시 단원구</p>, <p class=\"work_place\">서울 강남구</p>, <p class=\"work_place\">서울 금천구</p>, <p class=\"work_place\">서울 금천구</p>, <p class=\"work_place\">서울 금천구</p>, <p class=\"work_place\">서울 금천구</p>, <p class=\"work_place\">서울 금천구</p>, <p class=\"work_place\">경기 성남시 분당구</p>, <p class=\"work_place\">서울 영등포구</p>, <p class=\"work_place\">서울 마포구</p>, <p class=\"work_place\">서울 강남구</p>, <p class=\"work_place\">경기 성남시 분당구</p>, <p class=\"work_place\">경기 안양시 동안구</p>, <p class=\"work_place\">경기 고양시 일산서구</p>, <p class=\"work_place\">서울 용산구</p>, <p class=\"work_place\">서울 서초구</p>, <p class=\"work_place\">서울 영등포구</p>, <p class=\"work_place\">경기 성남시 분당구</p>, <p class=\"work_place\">서울전체</p>, <p class=\"work_place\">서울 금천구</p>, <p class=\"work_place\">서울 강남구</p>, <p class=\"work_place\">서울전체</p>, <p class=\"work_place\">경기 성남시 분당구</p>, <p class=\"work_place\">경기 성남시 분당구</p>, <p class=\"work_place\">서울 영등포구</p>, <p class=\"work_place\">서울 강남구</p>, <p class=\"work_place\">서울 강서구</p>, <p class=\"work_place\">서울 구로구</p>, <p class=\"work_place\">경기 성남시 수정구</p>, <p class=\"work_place\">경기 하남시</p>, <p class=\"work_place\">서울 강남구</p>, <p class=\"work_place\">서울 중구</p>, <p class=\"work_place\">인천 부평구</p>, <p class=\"work_place\">경기 고양시 일산동구</p>, <p class=\"work_place\">서울 마포구</p>, <p class=\"work_place\">서울 마포구</p>, <p class=\"work_place\">서울 마포구</p>]\n",
      "[<p class=\"work_place\">서울 마포구</p>, <p class=\"work_place\">경기 성남시 분당구</p>, <p class=\"work_place\">서울 강남구</p>, <p class=\"work_place\">서울 금천구</p>, <p class=\"work_place\">서울 서대문구</p>, <p class=\"work_place\">서울 강남구</p>, <p class=\"work_place\">서울 강남구</p>, <p class=\"work_place\">경기 고양시 덕양구</p>, <p class=\"work_place\">서울 성동구</p>, <p class=\"work_place\">서울전체</p>, <p class=\"work_place\">서울전체</p>, <p class=\"work_place\">서울 양천구</p>, <p class=\"work_place\">경기 성남시 분당구</p>, <p class=\"work_place\">경기 안산시 단원구</p>, <p class=\"work_place\">서울 강남구</p>, <p class=\"work_place\">서울 금천구</p>, <p class=\"work_place\">서울 금천구</p>, <p class=\"work_place\">서울 금천구</p>, <p class=\"work_place\">서울 금천구</p>, <p class=\"work_place\">서울 금천구</p>, <p class=\"work_place\">경기 성남시 분당구</p>, <p class=\"work_place\">서울 영등포구</p>, <p class=\"work_place\">서울 마포구</p>, <p class=\"work_place\">서울 강남구</p>, <p class=\"work_place\">경기 성남시 분당구</p>, <p class=\"work_place\">경기 안양시 동안구</p>, <p class=\"work_place\">경기 고양시 일산서구</p>, <p class=\"work_place\">서울 용산구</p>, <p class=\"work_place\">서울 서초구</p>, <p class=\"work_place\">서울 영등포구</p>, <p class=\"work_place\">경기 성남시 분당구</p>, <p class=\"work_place\">서울전체</p>, <p class=\"work_place\">서울 금천구</p>, <p class=\"work_place\">서울 강남구</p>, <p class=\"work_place\">서울전체</p>, <p class=\"work_place\">경기 성남시 분당구</p>, <p class=\"work_place\">경기 성남시 분당구</p>, <p class=\"work_place\">서울 영등포구</p>, <p class=\"work_place\">서울 강남구</p>, <p class=\"work_place\">서울 강서구</p>, <p class=\"work_place\">서울 구로구</p>, <p class=\"work_place\">경기 성남시 수정구</p>, <p class=\"work_place\">경기 하남시</p>, <p class=\"work_place\">서울 강남구</p>, <p class=\"work_place\">서울 중구</p>, <p class=\"work_place\">인천 부평구</p>, <p class=\"work_place\">경기 고양시 일산동구</p>, <p class=\"work_place\">서울 마포구</p>, <p class=\"work_place\">서울 마포구</p>, <p class=\"work_place\">서울 마포구</p>]\n",
      "[<p class=\"work_place\">서울 마포구</p>, <p class=\"work_place\">경기 성남시 분당구</p>, <p class=\"work_place\">서울 강남구</p>, <p class=\"work_place\">서울 금천구</p>, <p class=\"work_place\">서울 서대문구</p>, <p class=\"work_place\">서울 강남구</p>, <p class=\"work_place\">서울 강남구</p>, <p class=\"work_place\">경기 고양시 덕양구</p>, <p class=\"work_place\">서울 성동구</p>, <p class=\"work_place\">서울전체</p>, <p class=\"work_place\">서울전체</p>, <p class=\"work_place\">서울 양천구</p>, <p class=\"work_place\">경기 성남시 분당구</p>, <p class=\"work_place\">경기 안산시 단원구</p>, <p class=\"work_place\">서울 강남구</p>, <p class=\"work_place\">서울 금천구</p>, <p class=\"work_place\">서울 금천구</p>, <p class=\"work_place\">서울 금천구</p>, <p class=\"work_place\">서울 금천구</p>, <p class=\"work_place\">서울 금천구</p>, <p class=\"work_place\">경기 성남시 분당구</p>, <p class=\"work_place\">서울 영등포구</p>, <p class=\"work_place\">서울 마포구</p>, <p class=\"work_place\">서울 강남구</p>, <p class=\"work_place\">경기 성남시 분당구</p>, <p class=\"work_place\">경기 안양시 동안구</p>, <p class=\"work_place\">경기 고양시 일산서구</p>, <p class=\"work_place\">서울 용산구</p>, <p class=\"work_place\">서울 서초구</p>, <p class=\"work_place\">서울 영등포구</p>, <p class=\"work_place\">경기 성남시 분당구</p>, <p class=\"work_place\">서울전체</p>, <p class=\"work_place\">서울 금천구</p>, <p class=\"work_place\">서울 강남구</p>, <p class=\"work_place\">서울전체</p>, <p class=\"work_place\">경기 성남시 분당구</p>, <p class=\"work_place\">경기 성남시 분당구</p>, <p class=\"work_place\">서울 영등포구</p>, <p class=\"work_place\">서울 강남구</p>, <p class=\"work_place\">서울 강서구</p>, <p class=\"work_place\">서울 구로구</p>, <p class=\"work_place\">경기 성남시 수정구</p>, <p class=\"work_place\">경기 하남시</p>, <p class=\"work_place\">서울 강남구</p>, <p class=\"work_place\">서울 중구</p>, <p class=\"work_place\">인천 부평구</p>, <p class=\"work_place\">경기 고양시 일산동구</p>, <p class=\"work_place\">서울 마포구</p>, <p class=\"work_place\">서울 마포구</p>, <p class=\"work_place\">서울 마포구</p>]\n",
      "[<p class=\"work_place\">서울 마포구</p>, <p class=\"work_place\">경기 성남시 분당구</p>, <p class=\"work_place\">서울 강남구</p>, <p class=\"work_place\">서울 금천구</p>, <p class=\"work_place\">서울 서대문구</p>, <p class=\"work_place\">서울 강남구</p>, <p class=\"work_place\">서울 강남구</p>, <p class=\"work_place\">경기 고양시 덕양구</p>, <p class=\"work_place\">서울 성동구</p>, <p class=\"work_place\">서울전체</p>, <p class=\"work_place\">서울전체</p>, <p class=\"work_place\">서울 양천구</p>, <p class=\"work_place\">경기 성남시 분당구</p>, <p class=\"work_place\">경기 안산시 단원구</p>, <p class=\"work_place\">서울 강남구</p>, <p class=\"work_place\">서울 금천구</p>, <p class=\"work_place\">서울 금천구</p>, <p class=\"work_place\">서울 금천구</p>, <p class=\"work_place\">서울 금천구</p>, <p class=\"work_place\">서울 금천구</p>, <p class=\"work_place\">경기 성남시 분당구</p>, <p class=\"work_place\">서울 영등포구</p>, <p class=\"work_place\">서울 마포구</p>, <p class=\"work_place\">서울 강남구</p>, <p class=\"work_place\">경기 성남시 분당구</p>, <p class=\"work_place\">경기 안양시 동안구</p>, <p class=\"work_place\">경기 고양시 일산서구</p>, <p class=\"work_place\">서울 용산구</p>, <p class=\"work_place\">서울 서초구</p>, <p class=\"work_place\">서울 영등포구</p>, <p class=\"work_place\">경기 성남시 분당구</p>, <p class=\"work_place\">서울전체</p>, <p class=\"work_place\">서울 금천구</p>, <p class=\"work_place\">서울 강남구</p>, <p class=\"work_place\">서울전체</p>, <p class=\"work_place\">경기 성남시 분당구</p>, <p class=\"work_place\">경기 성남시 분당구</p>, <p class=\"work_place\">서울 영등포구</p>, <p class=\"work_place\">서울 강남구</p>, <p class=\"work_place\">서울 강서구</p>, <p class=\"work_place\">서울 구로구</p>, <p class=\"work_place\">경기 성남시 수정구</p>, <p class=\"work_place\">경기 하남시</p>, <p class=\"work_place\">서울 강남구</p>, <p class=\"work_place\">서울 중구</p>, <p class=\"work_place\">인천 부평구</p>, <p class=\"work_place\">경기 고양시 일산동구</p>, <p class=\"work_place\">서울 마포구</p>, <p class=\"work_place\">서울 마포구</p>, <p class=\"work_place\">서울 마포구</p>]\n",
      "[<p class=\"work_place\">서울 마포구</p>, <p class=\"work_place\">경기 성남시 분당구</p>, <p class=\"work_place\">서울 강남구</p>, <p class=\"work_place\">서울 금천구</p>, <p class=\"work_place\">서울 서대문구</p>, <p class=\"work_place\">서울 강남구</p>, <p class=\"work_place\">서울 강남구</p>, <p class=\"work_place\">경기 고양시 덕양구</p>, <p class=\"work_place\">서울 성동구</p>, <p class=\"work_place\">서울전체</p>, <p class=\"work_place\">서울전체</p>, <p class=\"work_place\">서울 양천구</p>, <p class=\"work_place\">경기 성남시 분당구</p>, <p class=\"work_place\">경기 안산시 단원구</p>, <p class=\"work_place\">서울 강남구</p>, <p class=\"work_place\">서울 금천구</p>, <p class=\"work_place\">서울 금천구</p>, <p class=\"work_place\">서울 금천구</p>, <p class=\"work_place\">서울 금천구</p>, <p class=\"work_place\">서울 금천구</p>, <p class=\"work_place\">경기 성남시 분당구</p>, <p class=\"work_place\">서울 영등포구</p>, <p class=\"work_place\">서울 마포구</p>, <p class=\"work_place\">서울 강남구</p>, <p class=\"work_place\">경기 성남시 분당구</p>, <p class=\"work_place\">경기 안양시 동안구</p>, <p class=\"work_place\">경기 고양시 일산서구</p>, <p class=\"work_place\">서울 용산구</p>, <p class=\"work_place\">서울 서초구</p>, <p class=\"work_place\">서울 영등포구</p>, <p class=\"work_place\">경기 성남시 분당구</p>, <p class=\"work_place\">서울전체</p>, <p class=\"work_place\">서울 금천구</p>, <p class=\"work_place\">서울 강남구</p>, <p class=\"work_place\">서울전체</p>, <p class=\"work_place\">경기 성남시 분당구</p>, <p class=\"work_place\">경기 성남시 분당구</p>, <p class=\"work_place\">서울 영등포구</p>, <p class=\"work_place\">서울 강남구</p>, <p class=\"work_place\">서울 강서구</p>, <p class=\"work_place\">서울 구로구</p>, <p class=\"work_place\">경기 성남시 수정구</p>, <p class=\"work_place\">경기 하남시</p>, <p class=\"work_place\">서울 강남구</p>, <p class=\"work_place\">서울 중구</p>, <p class=\"work_place\">인천 부평구</p>, <p class=\"work_place\">경기 고양시 일산동구</p>, <p class=\"work_place\">서울 마포구</p>, <p class=\"work_place\">서울 마포구</p>, <p class=\"work_place\">서울 마포구</p>]\n",
      "[<p class=\"work_place\">서울 마포구</p>, <p class=\"work_place\">경기 성남시 분당구</p>, <p class=\"work_place\">서울 강남구</p>, <p class=\"work_place\">서울 금천구</p>, <p class=\"work_place\">서울 서대문구</p>, <p class=\"work_place\">서울 강남구</p>, <p class=\"work_place\">서울 강남구</p>, <p class=\"work_place\">경기 고양시 덕양구</p>, <p class=\"work_place\">서울 성동구</p>, <p class=\"work_place\">서울전체</p>, <p class=\"work_place\">서울전체</p>, <p class=\"work_place\">서울 양천구</p>, <p class=\"work_place\">경기 성남시 분당구</p>, <p class=\"work_place\">경기 안산시 단원구</p>, <p class=\"work_place\">서울 강남구</p>, <p class=\"work_place\">서울 금천구</p>, <p class=\"work_place\">서울 금천구</p>, <p class=\"work_place\">서울 금천구</p>, <p class=\"work_place\">서울 금천구</p>, <p class=\"work_place\">서울 금천구</p>, <p class=\"work_place\">경기 성남시 분당구</p>, <p class=\"work_place\">서울 영등포구</p>, <p class=\"work_place\">서울 마포구</p>, <p class=\"work_place\">서울 강남구</p>, <p class=\"work_place\">경기 성남시 분당구</p>, <p class=\"work_place\">경기 안양시 동안구</p>, <p class=\"work_place\">경기 고양시 일산서구</p>, <p class=\"work_place\">서울 용산구</p>, <p class=\"work_place\">서울 서초구</p>, <p class=\"work_place\">서울 영등포구</p>, <p class=\"work_place\">경기 성남시 분당구</p>, <p class=\"work_place\">서울전체</p>, <p class=\"work_place\">서울 금천구</p>, <p class=\"work_place\">서울 강남구</p>, <p class=\"work_place\">서울전체</p>, <p class=\"work_place\">경기 성남시 분당구</p>, <p class=\"work_place\">경기 성남시 분당구</p>, <p class=\"work_place\">서울 영등포구</p>, <p class=\"work_place\">서울 강남구</p>, <p class=\"work_place\">서울 강서구</p>, <p class=\"work_place\">서울 구로구</p>, <p class=\"work_place\">경기 성남시 수정구</p>, <p class=\"work_place\">경기 하남시</p>, <p class=\"work_place\">서울 강남구</p>, <p class=\"work_place\">서울 중구</p>, <p class=\"work_place\">인천 부평구</p>, <p class=\"work_place\">경기 고양시 일산동구</p>, <p class=\"work_place\">서울 마포구</p>, <p class=\"work_place\">서울 마포구</p>, <p class=\"work_place\">서울 마포구</p>]\n",
      "[<p class=\"work_place\">서울 마포구</p>, <p class=\"work_place\">경기 성남시 분당구</p>, <p class=\"work_place\">서울 강남구</p>, <p class=\"work_place\">서울 금천구</p>, <p class=\"work_place\">서울 서대문구</p>, <p class=\"work_place\">서울 강남구</p>, <p class=\"work_place\">서울 강남구</p>, <p class=\"work_place\">경기 고양시 덕양구</p>, <p class=\"work_place\">서울 성동구</p>, <p class=\"work_place\">서울전체</p>, <p class=\"work_place\">서울전체</p>, <p class=\"work_place\">서울 양천구</p>, <p class=\"work_place\">경기 성남시 분당구</p>, <p class=\"work_place\">경기 안산시 단원구</p>, <p class=\"work_place\">서울 강남구</p>, <p class=\"work_place\">서울 금천구</p>, <p class=\"work_place\">서울 금천구</p>, <p class=\"work_place\">서울 금천구</p>, <p class=\"work_place\">서울 금천구</p>, <p class=\"work_place\">서울 금천구</p>, <p class=\"work_place\">경기 성남시 분당구</p>, <p class=\"work_place\">서울 영등포구</p>, <p class=\"work_place\">서울 마포구</p>, <p class=\"work_place\">서울 강남구</p>, <p class=\"work_place\">경기 성남시 분당구</p>, <p class=\"work_place\">경기 안양시 동안구</p>, <p class=\"work_place\">경기 고양시 일산서구</p>, <p class=\"work_place\">서울 용산구</p>, <p class=\"work_place\">서울 서초구</p>, <p class=\"work_place\">서울 영등포구</p>, <p class=\"work_place\">경기 성남시 분당구</p>, <p class=\"work_place\">서울전체</p>, <p class=\"work_place\">서울 금천구</p>, <p class=\"work_place\">서울 강남구</p>, <p class=\"work_place\">서울전체</p>, <p class=\"work_place\">경기 성남시 분당구</p>, <p class=\"work_place\">경기 성남시 분당구</p>, <p class=\"work_place\">서울 영등포구</p>, <p class=\"work_place\">서울 강남구</p>, <p class=\"work_place\">서울 강서구</p>, <p class=\"work_place\">서울 구로구</p>, <p class=\"work_place\">경기 성남시 수정구</p>, <p class=\"work_place\">경기 하남시</p>, <p class=\"work_place\">서울 강남구</p>, <p class=\"work_place\">서울 중구</p>, <p class=\"work_place\">인천 부평구</p>, <p class=\"work_place\">경기 고양시 일산동구</p>, <p class=\"work_place\">서울 마포구</p>, <p class=\"work_place\">서울 마포구</p>, <p class=\"work_place\">서울 마포구</p>]\n",
      "[<p class=\"work_place\">서울 마포구</p>, <p class=\"work_place\">경기 성남시 분당구</p>, <p class=\"work_place\">서울 강남구</p>, <p class=\"work_place\">서울 금천구</p>, <p class=\"work_place\">서울 서대문구</p>, <p class=\"work_place\">서울 강남구</p>, <p class=\"work_place\">서울 강남구</p>, <p class=\"work_place\">경기 고양시 덕양구</p>, <p class=\"work_place\">서울 성동구</p>, <p class=\"work_place\">서울전체</p>, <p class=\"work_place\">서울전체</p>, <p class=\"work_place\">서울 양천구</p>, <p class=\"work_place\">경기 성남시 분당구</p>, <p class=\"work_place\">경기 안산시 단원구</p>, <p class=\"work_place\">서울 강남구</p>, <p class=\"work_place\">서울 금천구</p>, <p class=\"work_place\">서울 금천구</p>, <p class=\"work_place\">서울 금천구</p>, <p class=\"work_place\">서울 금천구</p>, <p class=\"work_place\">서울 금천구</p>, <p class=\"work_place\">경기 성남시 분당구</p>, <p class=\"work_place\">서울 영등포구</p>, <p class=\"work_place\">서울 마포구</p>, <p class=\"work_place\">서울 강남구</p>, <p class=\"work_place\">경기 성남시 분당구</p>, <p class=\"work_place\">경기 안양시 동안구</p>, <p class=\"work_place\">경기 고양시 일산서구</p>, <p class=\"work_place\">서울 용산구</p>, <p class=\"work_place\">서울 서초구</p>, <p class=\"work_place\">서울 영등포구</p>, <p class=\"work_place\">경기 성남시 분당구</p>, <p class=\"work_place\">서울전체</p>, <p class=\"work_place\">서울 금천구</p>, <p class=\"work_place\">서울 강남구</p>, <p class=\"work_place\">서울전체</p>, <p class=\"work_place\">경기 성남시 분당구</p>, <p class=\"work_place\">경기 성남시 분당구</p>, <p class=\"work_place\">서울 영등포구</p>, <p class=\"work_place\">서울 강남구</p>, <p class=\"work_place\">서울 강서구</p>, <p class=\"work_place\">서울 구로구</p>, <p class=\"work_place\">경기 성남시 수정구</p>, <p class=\"work_place\">경기 하남시</p>, <p class=\"work_place\">서울 강남구</p>, <p class=\"work_place\">서울 중구</p>, <p class=\"work_place\">인천 부평구</p>, <p class=\"work_place\">경기 고양시 일산동구</p>, <p class=\"work_place\">서울 마포구</p>, <p class=\"work_place\">서울 마포구</p>, <p class=\"work_place\">서울 마포구</p>]\n",
      "[<p class=\"work_place\">서울 마포구</p>, <p class=\"work_place\">경기 성남시 분당구</p>, <p class=\"work_place\">서울 강남구</p>, <p class=\"work_place\">서울 금천구</p>, <p class=\"work_place\">서울 서대문구</p>, <p class=\"work_place\">서울 강남구</p>, <p class=\"work_place\">서울 강남구</p>, <p class=\"work_place\">경기 고양시 덕양구</p>, <p class=\"work_place\">서울 성동구</p>, <p class=\"work_place\">서울전체</p>, <p class=\"work_place\">서울전체</p>, <p class=\"work_place\">서울 양천구</p>, <p class=\"work_place\">경기 성남시 분당구</p>, <p class=\"work_place\">경기 안산시 단원구</p>, <p class=\"work_place\">서울 강남구</p>, <p class=\"work_place\">서울 금천구</p>, <p class=\"work_place\">서울 금천구</p>, <p class=\"work_place\">서울 금천구</p>, <p class=\"work_place\">서울 금천구</p>, <p class=\"work_place\">서울 금천구</p>, <p class=\"work_place\">경기 성남시 분당구</p>, <p class=\"work_place\">서울 영등포구</p>, <p class=\"work_place\">서울 마포구</p>, <p class=\"work_place\">서울 강남구</p>, <p class=\"work_place\">경기 성남시 분당구</p>, <p class=\"work_place\">경기 안양시 동안구</p>, <p class=\"work_place\">경기 고양시 일산서구</p>, <p class=\"work_place\">서울 용산구</p>, <p class=\"work_place\">서울 서초구</p>, <p class=\"work_place\">서울 영등포구</p>, <p class=\"work_place\">경기 성남시 분당구</p>, <p class=\"work_place\">서울전체</p>, <p class=\"work_place\">서울 금천구</p>, <p class=\"work_place\">서울 강남구</p>, <p class=\"work_place\">서울전체</p>, <p class=\"work_place\">경기 성남시 분당구</p>, <p class=\"work_place\">경기 성남시 분당구</p>, <p class=\"work_place\">서울 영등포구</p>, <p class=\"work_place\">서울 강남구</p>, <p class=\"work_place\">서울 강서구</p>, <p class=\"work_place\">서울 구로구</p>, <p class=\"work_place\">경기 성남시 수정구</p>, <p class=\"work_place\">경기 하남시</p>, <p class=\"work_place\">서울 강남구</p>, <p class=\"work_place\">서울 중구</p>, <p class=\"work_place\">인천 부평구</p>, <p class=\"work_place\">경기 고양시 일산동구</p>, <p class=\"work_place\">서울 마포구</p>, <p class=\"work_place\">서울 마포구</p>, <p class=\"work_place\">서울 마포구</p>]\n",
      "[<p class=\"work_place\">서울 마포구</p>, <p class=\"work_place\">경기 성남시 분당구</p>, <p class=\"work_place\">서울 강남구</p>, <p class=\"work_place\">서울 금천구</p>, <p class=\"work_place\">서울 서대문구</p>, <p class=\"work_place\">서울 강남구</p>, <p class=\"work_place\">서울 강남구</p>, <p class=\"work_place\">경기 고양시 덕양구</p>, <p class=\"work_place\">서울 성동구</p>, <p class=\"work_place\">서울전체</p>, <p class=\"work_place\">서울전체</p>, <p class=\"work_place\">서울 양천구</p>, <p class=\"work_place\">경기 성남시 분당구</p>, <p class=\"work_place\">경기 안산시 단원구</p>, <p class=\"work_place\">서울 강남구</p>, <p class=\"work_place\">서울 금천구</p>, <p class=\"work_place\">서울 금천구</p>, <p class=\"work_place\">서울 금천구</p>, <p class=\"work_place\">서울 금천구</p>, <p class=\"work_place\">서울 금천구</p>, <p class=\"work_place\">경기 성남시 분당구</p>, <p class=\"work_place\">서울 영등포구</p>, <p class=\"work_place\">서울 마포구</p>, <p class=\"work_place\">서울 강남구</p>, <p class=\"work_place\">경기 성남시 분당구</p>, <p class=\"work_place\">경기 안양시 동안구</p>, <p class=\"work_place\">경기 고양시 일산서구</p>, <p class=\"work_place\">서울 용산구</p>, <p class=\"work_place\">서울 서초구</p>, <p class=\"work_place\">서울 영등포구</p>, <p class=\"work_place\">경기 성남시 분당구</p>, <p class=\"work_place\">서울전체</p>, <p class=\"work_place\">서울 금천구</p>, <p class=\"work_place\">서울 강남구</p>, <p class=\"work_place\">서울전체</p>, <p class=\"work_place\">경기 성남시 분당구</p>, <p class=\"work_place\">경기 성남시 분당구</p>, <p class=\"work_place\">서울 영등포구</p>, <p class=\"work_place\">서울 강남구</p>, <p class=\"work_place\">서울 강서구</p>, <p class=\"work_place\">서울 구로구</p>, <p class=\"work_place\">경기 성남시 수정구</p>, <p class=\"work_place\">경기 하남시</p>, <p class=\"work_place\">서울 강남구</p>, <p class=\"work_place\">서울 중구</p>, <p class=\"work_place\">인천 부평구</p>, <p class=\"work_place\">경기 고양시 일산동구</p>, <p class=\"work_place\">서울 마포구</p>, <p class=\"work_place\">서울 마포구</p>, <p class=\"work_place\">서울 마포구</p>]\n",
      "[<p class=\"work_place\">서울 마포구</p>, <p class=\"work_place\">경기 성남시 분당구</p>, <p class=\"work_place\">서울 강남구</p>, <p class=\"work_place\">서울 금천구</p>, <p class=\"work_place\">서울 서대문구</p>, <p class=\"work_place\">서울 강남구</p>, <p class=\"work_place\">서울 강남구</p>, <p class=\"work_place\">경기 고양시 덕양구</p>, <p class=\"work_place\">서울 성동구</p>, <p class=\"work_place\">서울전체</p>, <p class=\"work_place\">서울전체</p>, <p class=\"work_place\">서울 양천구</p>, <p class=\"work_place\">경기 성남시 분당구</p>, <p class=\"work_place\">경기 안산시 단원구</p>, <p class=\"work_place\">서울 강남구</p>, <p class=\"work_place\">서울 금천구</p>, <p class=\"work_place\">서울 금천구</p>, <p class=\"work_place\">서울 금천구</p>, <p class=\"work_place\">서울 금천구</p>, <p class=\"work_place\">서울 금천구</p>, <p class=\"work_place\">경기 성남시 분당구</p>, <p class=\"work_place\">서울 영등포구</p>, <p class=\"work_place\">서울 마포구</p>, <p class=\"work_place\">서울 강남구</p>, <p class=\"work_place\">경기 성남시 분당구</p>, <p class=\"work_place\">경기 안양시 동안구</p>, <p class=\"work_place\">경기 고양시 일산서구</p>, <p class=\"work_place\">서울 용산구</p>, <p class=\"work_place\">서울 서초구</p>, <p class=\"work_place\">서울 영등포구</p>, <p class=\"work_place\">경기 성남시 분당구</p>, <p class=\"work_place\">서울전체</p>, <p class=\"work_place\">서울 금천구</p>, <p class=\"work_place\">서울 강남구</p>, <p class=\"work_place\">서울전체</p>, <p class=\"work_place\">경기 성남시 분당구</p>, <p class=\"work_place\">경기 성남시 분당구</p>, <p class=\"work_place\">서울 영등포구</p>, <p class=\"work_place\">서울 강남구</p>, <p class=\"work_place\">서울 강서구</p>, <p class=\"work_place\">서울 구로구</p>, <p class=\"work_place\">경기 성남시 수정구</p>, <p class=\"work_place\">경기 하남시</p>, <p class=\"work_place\">서울 강남구</p>, <p class=\"work_place\">서울 중구</p>, <p class=\"work_place\">인천 부평구</p>, <p class=\"work_place\">경기 고양시 일산동구</p>, <p class=\"work_place\">서울 마포구</p>, <p class=\"work_place\">서울 마포구</p>, <p class=\"work_place\">서울 마포구</p>]\n",
      "[<p class=\"work_place\">서울 마포구</p>, <p class=\"work_place\">경기 성남시 분당구</p>, <p class=\"work_place\">서울 강남구</p>, <p class=\"work_place\">서울 금천구</p>, <p class=\"work_place\">서울 서대문구</p>, <p class=\"work_place\">서울 강남구</p>, <p class=\"work_place\">서울 강남구</p>, <p class=\"work_place\">경기 고양시 덕양구</p>, <p class=\"work_place\">서울 성동구</p>, <p class=\"work_place\">서울전체</p>, <p class=\"work_place\">서울전체</p>, <p class=\"work_place\">서울 양천구</p>, <p class=\"work_place\">경기 성남시 분당구</p>, <p class=\"work_place\">경기 안산시 단원구</p>, <p class=\"work_place\">서울 강남구</p>, <p class=\"work_place\">서울 금천구</p>, <p class=\"work_place\">서울 금천구</p>, <p class=\"work_place\">서울 금천구</p>, <p class=\"work_place\">서울 금천구</p>, <p class=\"work_place\">서울 금천구</p>, <p class=\"work_place\">경기 성남시 분당구</p>, <p class=\"work_place\">서울 영등포구</p>, <p class=\"work_place\">서울 마포구</p>, <p class=\"work_place\">서울 강남구</p>, <p class=\"work_place\">경기 성남시 분당구</p>, <p class=\"work_place\">경기 안양시 동안구</p>, <p class=\"work_place\">경기 고양시 일산서구</p>, <p class=\"work_place\">서울 용산구</p>, <p class=\"work_place\">서울 서초구</p>, <p class=\"work_place\">서울 영등포구</p>, <p class=\"work_place\">경기 성남시 분당구</p>, <p class=\"work_place\">서울전체</p>, <p class=\"work_place\">서울 금천구</p>, <p class=\"work_place\">서울 강남구</p>, <p class=\"work_place\">서울전체</p>, <p class=\"work_place\">경기 성남시 분당구</p>, <p class=\"work_place\">경기 성남시 분당구</p>, <p class=\"work_place\">서울 영등포구</p>, <p class=\"work_place\">서울 강남구</p>, <p class=\"work_place\">서울 강서구</p>, <p class=\"work_place\">서울 구로구</p>, <p class=\"work_place\">경기 성남시 수정구</p>, <p class=\"work_place\">경기 하남시</p>, <p class=\"work_place\">서울 강남구</p>, <p class=\"work_place\">서울 중구</p>, <p class=\"work_place\">인천 부평구</p>, <p class=\"work_place\">경기 고양시 일산동구</p>, <p class=\"work_place\">서울 마포구</p>, <p class=\"work_place\">서울 마포구</p>, <p class=\"work_place\">서울 마포구</p>]\n",
      "[<p class=\"work_place\">서울 마포구</p>, <p class=\"work_place\">경기 성남시 분당구</p>, <p class=\"work_place\">서울 강남구</p>, <p class=\"work_place\">서울 금천구</p>, <p class=\"work_place\">서울 서대문구</p>, <p class=\"work_place\">서울 강남구</p>, <p class=\"work_place\">서울 강남구</p>, <p class=\"work_place\">경기 고양시 덕양구</p>, <p class=\"work_place\">서울 성동구</p>, <p class=\"work_place\">서울전체</p>, <p class=\"work_place\">서울전체</p>, <p class=\"work_place\">서울 양천구</p>, <p class=\"work_place\">경기 성남시 분당구</p>, <p class=\"work_place\">경기 안산시 단원구</p>, <p class=\"work_place\">서울 강남구</p>, <p class=\"work_place\">서울 금천구</p>, <p class=\"work_place\">서울 금천구</p>, <p class=\"work_place\">서울 금천구</p>, <p class=\"work_place\">서울 금천구</p>, <p class=\"work_place\">서울 금천구</p>, <p class=\"work_place\">경기 성남시 분당구</p>, <p class=\"work_place\">서울 영등포구</p>, <p class=\"work_place\">서울 마포구</p>, <p class=\"work_place\">서울 강남구</p>, <p class=\"work_place\">경기 성남시 분당구</p>, <p class=\"work_place\">경기 안양시 동안구</p>, <p class=\"work_place\">경기 고양시 일산서구</p>, <p class=\"work_place\">서울 용산구</p>, <p class=\"work_place\">서울 서초구</p>, <p class=\"work_place\">서울 영등포구</p>, <p class=\"work_place\">경기 성남시 분당구</p>, <p class=\"work_place\">서울전체</p>, <p class=\"work_place\">서울 금천구</p>, <p class=\"work_place\">서울 강남구</p>, <p class=\"work_place\">서울전체</p>, <p class=\"work_place\">경기 성남시 분당구</p>, <p class=\"work_place\">경기 성남시 분당구</p>, <p class=\"work_place\">서울 영등포구</p>, <p class=\"work_place\">서울 강남구</p>, <p class=\"work_place\">서울 강서구</p>, <p class=\"work_place\">서울 구로구</p>, <p class=\"work_place\">경기 성남시 수정구</p>, <p class=\"work_place\">경기 하남시</p>, <p class=\"work_place\">서울 강남구</p>, <p class=\"work_place\">서울 중구</p>, <p class=\"work_place\">인천 부평구</p>, <p class=\"work_place\">경기 고양시 일산동구</p>, <p class=\"work_place\">서울 마포구</p>, <p class=\"work_place\">서울 마포구</p>, <p class=\"work_place\">서울 마포구</p>]\n",
      "[<p class=\"work_place\">서울 마포구</p>, <p class=\"work_place\">경기 성남시 분당구</p>, <p class=\"work_place\">서울 강남구</p>, <p class=\"work_place\">서울 금천구</p>, <p class=\"work_place\">서울 서대문구</p>, <p class=\"work_place\">서울 강남구</p>, <p class=\"work_place\">서울 강남구</p>, <p class=\"work_place\">경기 고양시 덕양구</p>, <p class=\"work_place\">서울 성동구</p>, <p class=\"work_place\">서울전체</p>, <p class=\"work_place\">서울전체</p>, <p class=\"work_place\">서울 양천구</p>, <p class=\"work_place\">경기 성남시 분당구</p>, <p class=\"work_place\">경기 안산시 단원구</p>, <p class=\"work_place\">서울 강남구</p>, <p class=\"work_place\">서울 금천구</p>, <p class=\"work_place\">서울 금천구</p>, <p class=\"work_place\">서울 금천구</p>, <p class=\"work_place\">서울 금천구</p>, <p class=\"work_place\">서울 금천구</p>, <p class=\"work_place\">경기 성남시 분당구</p>, <p class=\"work_place\">서울 영등포구</p>, <p class=\"work_place\">서울 마포구</p>, <p class=\"work_place\">서울 강남구</p>, <p class=\"work_place\">경기 성남시 분당구</p>, <p class=\"work_place\">경기 안양시 동안구</p>, <p class=\"work_place\">경기 고양시 일산서구</p>, <p class=\"work_place\">서울 용산구</p>, <p class=\"work_place\">서울 서초구</p>, <p class=\"work_place\">서울 영등포구</p>, <p class=\"work_place\">경기 성남시 분당구</p>, <p class=\"work_place\">서울전체</p>, <p class=\"work_place\">서울 금천구</p>, <p class=\"work_place\">서울 강남구</p>, <p class=\"work_place\">서울전체</p>, <p class=\"work_place\">경기 성남시 분당구</p>, <p class=\"work_place\">경기 성남시 분당구</p>, <p class=\"work_place\">서울 영등포구</p>, <p class=\"work_place\">서울 강남구</p>, <p class=\"work_place\">서울 강서구</p>, <p class=\"work_place\">서울 구로구</p>, <p class=\"work_place\">경기 성남시 수정구</p>, <p class=\"work_place\">경기 하남시</p>, <p class=\"work_place\">서울 강남구</p>, <p class=\"work_place\">서울 중구</p>, <p class=\"work_place\">인천 부평구</p>, <p class=\"work_place\">경기 고양시 일산동구</p>, <p class=\"work_place\">서울 마포구</p>, <p class=\"work_place\">서울 마포구</p>, <p class=\"work_place\">서울 마포구</p>]\n",
      "[<p class=\"work_place\">서울 마포구</p>, <p class=\"work_place\">경기 성남시 분당구</p>, <p class=\"work_place\">서울 강남구</p>, <p class=\"work_place\">서울 금천구</p>, <p class=\"work_place\">서울 서대문구</p>, <p class=\"work_place\">서울 강남구</p>, <p class=\"work_place\">서울 강남구</p>, <p class=\"work_place\">경기 고양시 덕양구</p>, <p class=\"work_place\">서울 성동구</p>, <p class=\"work_place\">서울전체</p>, <p class=\"work_place\">서울전체</p>, <p class=\"work_place\">서울 양천구</p>, <p class=\"work_place\">경기 성남시 분당구</p>, <p class=\"work_place\">경기 안산시 단원구</p>, <p class=\"work_place\">서울 강남구</p>, <p class=\"work_place\">서울 금천구</p>, <p class=\"work_place\">서울 금천구</p>, <p class=\"work_place\">서울 금천구</p>, <p class=\"work_place\">서울 금천구</p>, <p class=\"work_place\">서울 금천구</p>, <p class=\"work_place\">경기 성남시 분당구</p>, <p class=\"work_place\">서울 영등포구</p>, <p class=\"work_place\">서울 마포구</p>, <p class=\"work_place\">서울 강남구</p>, <p class=\"work_place\">경기 성남시 분당구</p>, <p class=\"work_place\">경기 안양시 동안구</p>, <p class=\"work_place\">경기 고양시 일산서구</p>, <p class=\"work_place\">서울 용산구</p>, <p class=\"work_place\">서울 서초구</p>, <p class=\"work_place\">서울 영등포구</p>, <p class=\"work_place\">경기 성남시 분당구</p>, <p class=\"work_place\">서울전체</p>, <p class=\"work_place\">서울 금천구</p>, <p class=\"work_place\">서울 강남구</p>, <p class=\"work_place\">서울전체</p>, <p class=\"work_place\">경기 성남시 분당구</p>, <p class=\"work_place\">경기 성남시 분당구</p>, <p class=\"work_place\">서울 영등포구</p>, <p class=\"work_place\">서울 강남구</p>, <p class=\"work_place\">서울 강서구</p>, <p class=\"work_place\">서울 구로구</p>, <p class=\"work_place\">경기 성남시 수정구</p>, <p class=\"work_place\">경기 하남시</p>, <p class=\"work_place\">서울 강남구</p>, <p class=\"work_place\">서울 중구</p>, <p class=\"work_place\">인천 부평구</p>, <p class=\"work_place\">경기 고양시 일산동구</p>, <p class=\"work_place\">서울 마포구</p>, <p class=\"work_place\">서울 마포구</p>, <p class=\"work_place\">서울 마포구</p>]\n",
      "[<p class=\"work_place\">서울 마포구</p>, <p class=\"work_place\">경기 성남시 분당구</p>, <p class=\"work_place\">서울 강남구</p>, <p class=\"work_place\">서울 금천구</p>, <p class=\"work_place\">서울 서대문구</p>, <p class=\"work_place\">서울 강남구</p>, <p class=\"work_place\">서울 강남구</p>, <p class=\"work_place\">경기 고양시 덕양구</p>, <p class=\"work_place\">서울 성동구</p>, <p class=\"work_place\">서울전체</p>, <p class=\"work_place\">서울전체</p>, <p class=\"work_place\">서울 양천구</p>, <p class=\"work_place\">경기 성남시 분당구</p>, <p class=\"work_place\">경기 안산시 단원구</p>, <p class=\"work_place\">서울 강남구</p>, <p class=\"work_place\">서울 금천구</p>, <p class=\"work_place\">서울 금천구</p>, <p class=\"work_place\">서울 금천구</p>, <p class=\"work_place\">서울 금천구</p>, <p class=\"work_place\">서울 금천구</p>, <p class=\"work_place\">경기 성남시 분당구</p>, <p class=\"work_place\">서울 영등포구</p>, <p class=\"work_place\">서울 마포구</p>, <p class=\"work_place\">서울 강남구</p>, <p class=\"work_place\">경기 성남시 분당구</p>, <p class=\"work_place\">경기 안양시 동안구</p>, <p class=\"work_place\">경기 고양시 일산서구</p>, <p class=\"work_place\">서울 용산구</p>, <p class=\"work_place\">서울 서초구</p>, <p class=\"work_place\">서울 영등포구</p>, <p class=\"work_place\">경기 성남시 분당구</p>, <p class=\"work_place\">서울전체</p>, <p class=\"work_place\">서울 금천구</p>, <p class=\"work_place\">서울 강남구</p>, <p class=\"work_place\">서울전체</p>, <p class=\"work_place\">경기 성남시 분당구</p>, <p class=\"work_place\">경기 성남시 분당구</p>, <p class=\"work_place\">서울 영등포구</p>, <p class=\"work_place\">서울 강남구</p>, <p class=\"work_place\">서울 강서구</p>, <p class=\"work_place\">서울 구로구</p>, <p class=\"work_place\">경기 성남시 수정구</p>, <p class=\"work_place\">경기 하남시</p>, <p class=\"work_place\">서울 강남구</p>, <p class=\"work_place\">서울 중구</p>, <p class=\"work_place\">인천 부평구</p>, <p class=\"work_place\">경기 고양시 일산동구</p>, <p class=\"work_place\">서울 마포구</p>, <p class=\"work_place\">서울 마포구</p>, <p class=\"work_place\">서울 마포구</p>]\n",
      "[<p class=\"work_place\">서울 마포구</p>, <p class=\"work_place\">경기 성남시 분당구</p>, <p class=\"work_place\">서울 강남구</p>, <p class=\"work_place\">서울 금천구</p>, <p class=\"work_place\">서울 서대문구</p>, <p class=\"work_place\">서울 강남구</p>, <p class=\"work_place\">서울 강남구</p>, <p class=\"work_place\">경기 고양시 덕양구</p>, <p class=\"work_place\">서울 성동구</p>, <p class=\"work_place\">서울전체</p>, <p class=\"work_place\">서울전체</p>, <p class=\"work_place\">서울 양천구</p>, <p class=\"work_place\">경기 성남시 분당구</p>, <p class=\"work_place\">경기 안산시 단원구</p>, <p class=\"work_place\">서울 강남구</p>, <p class=\"work_place\">서울 금천구</p>, <p class=\"work_place\">서울 금천구</p>, <p class=\"work_place\">서울 금천구</p>, <p class=\"work_place\">서울 금천구</p>, <p class=\"work_place\">서울 금천구</p>, <p class=\"work_place\">경기 성남시 분당구</p>, <p class=\"work_place\">서울 영등포구</p>, <p class=\"work_place\">서울 마포구</p>, <p class=\"work_place\">서울 강남구</p>, <p class=\"work_place\">경기 성남시 분당구</p>, <p class=\"work_place\">경기 안양시 동안구</p>, <p class=\"work_place\">경기 고양시 일산서구</p>, <p class=\"work_place\">서울 용산구</p>, <p class=\"work_place\">서울 서초구</p>, <p class=\"work_place\">서울 영등포구</p>, <p class=\"work_place\">경기 성남시 분당구</p>, <p class=\"work_place\">서울전체</p>, <p class=\"work_place\">서울 금천구</p>, <p class=\"work_place\">서울 강남구</p>, <p class=\"work_place\">서울전체</p>, <p class=\"work_place\">경기 성남시 분당구</p>, <p class=\"work_place\">경기 성남시 분당구</p>, <p class=\"work_place\">서울 영등포구</p>, <p class=\"work_place\">서울 강남구</p>, <p class=\"work_place\">서울 강서구</p>, <p class=\"work_place\">서울 구로구</p>, <p class=\"work_place\">경기 성남시 수정구</p>, <p class=\"work_place\">경기 하남시</p>, <p class=\"work_place\">서울 강남구</p>, <p class=\"work_place\">서울 중구</p>, <p class=\"work_place\">인천 부평구</p>, <p class=\"work_place\">경기 고양시 일산동구</p>, <p class=\"work_place\">서울 마포구</p>, <p class=\"work_place\">서울 마포구</p>, <p class=\"work_place\">서울 마포구</p>]\n",
      "[<p class=\"work_place\">서울 마포구</p>, <p class=\"work_place\">경기 성남시 분당구</p>, <p class=\"work_place\">서울 강남구</p>, <p class=\"work_place\">서울 금천구</p>, <p class=\"work_place\">서울 서대문구</p>, <p class=\"work_place\">서울 강남구</p>, <p class=\"work_place\">서울 강남구</p>, <p class=\"work_place\">경기 고양시 덕양구</p>, <p class=\"work_place\">서울 성동구</p>, <p class=\"work_place\">서울전체</p>, <p class=\"work_place\">서울전체</p>, <p class=\"work_place\">서울 양천구</p>, <p class=\"work_place\">경기 성남시 분당구</p>, <p class=\"work_place\">경기 안산시 단원구</p>, <p class=\"work_place\">서울 강남구</p>, <p class=\"work_place\">서울 금천구</p>, <p class=\"work_place\">서울 금천구</p>, <p class=\"work_place\">서울 금천구</p>, <p class=\"work_place\">서울 금천구</p>, <p class=\"work_place\">서울 금천구</p>, <p class=\"work_place\">경기 성남시 분당구</p>, <p class=\"work_place\">서울 영등포구</p>, <p class=\"work_place\">서울 마포구</p>, <p class=\"work_place\">서울 강남구</p>, <p class=\"work_place\">경기 성남시 분당구</p>, <p class=\"work_place\">경기 안양시 동안구</p>, <p class=\"work_place\">경기 고양시 일산서구</p>, <p class=\"work_place\">서울 용산구</p>, <p class=\"work_place\">서울 서초구</p>, <p class=\"work_place\">서울 영등포구</p>, <p class=\"work_place\">경기 성남시 분당구</p>, <p class=\"work_place\">서울전체</p>, <p class=\"work_place\">서울 금천구</p>, <p class=\"work_place\">서울 강남구</p>, <p class=\"work_place\">서울전체</p>, <p class=\"work_place\">경기 성남시 분당구</p>, <p class=\"work_place\">경기 성남시 분당구</p>, <p class=\"work_place\">서울 영등포구</p>, <p class=\"work_place\">서울 강남구</p>, <p class=\"work_place\">서울 강서구</p>, <p class=\"work_place\">서울 구로구</p>, <p class=\"work_place\">경기 성남시 수정구</p>, <p class=\"work_place\">경기 하남시</p>, <p class=\"work_place\">서울 강남구</p>, <p class=\"work_place\">서울 중구</p>, <p class=\"work_place\">인천 부평구</p>, <p class=\"work_place\">경기 고양시 일산동구</p>, <p class=\"work_place\">서울 마포구</p>, <p class=\"work_place\">서울 마포구</p>, <p class=\"work_place\">서울 마포구</p>]\n",
      "[<p class=\"work_place\">서울 마포구</p>, <p class=\"work_place\">경기 성남시 분당구</p>, <p class=\"work_place\">서울 강남구</p>, <p class=\"work_place\">서울 금천구</p>, <p class=\"work_place\">서울 서대문구</p>, <p class=\"work_place\">서울 강남구</p>, <p class=\"work_place\">서울 강남구</p>, <p class=\"work_place\">경기 고양시 덕양구</p>, <p class=\"work_place\">서울 성동구</p>, <p class=\"work_place\">서울전체</p>, <p class=\"work_place\">서울전체</p>, <p class=\"work_place\">서울 양천구</p>, <p class=\"work_place\">경기 성남시 분당구</p>, <p class=\"work_place\">경기 안산시 단원구</p>, <p class=\"work_place\">서울 강남구</p>, <p class=\"work_place\">서울 금천구</p>, <p class=\"work_place\">서울 금천구</p>, <p class=\"work_place\">서울 금천구</p>, <p class=\"work_place\">서울 금천구</p>, <p class=\"work_place\">서울 금천구</p>, <p class=\"work_place\">경기 성남시 분당구</p>, <p class=\"work_place\">서울 영등포구</p>, <p class=\"work_place\">서울 마포구</p>, <p class=\"work_place\">서울 강남구</p>, <p class=\"work_place\">경기 성남시 분당구</p>, <p class=\"work_place\">경기 안양시 동안구</p>, <p class=\"work_place\">경기 고양시 일산서구</p>, <p class=\"work_place\">서울 용산구</p>, <p class=\"work_place\">서울 서초구</p>, <p class=\"work_place\">서울 영등포구</p>, <p class=\"work_place\">경기 성남시 분당구</p>, <p class=\"work_place\">서울전체</p>, <p class=\"work_place\">서울 금천구</p>, <p class=\"work_place\">서울 강남구</p>, <p class=\"work_place\">서울전체</p>, <p class=\"work_place\">경기 성남시 분당구</p>, <p class=\"work_place\">경기 성남시 분당구</p>, <p class=\"work_place\">서울 영등포구</p>, <p class=\"work_place\">서울 강남구</p>, <p class=\"work_place\">서울 강서구</p>, <p class=\"work_place\">서울 구로구</p>, <p class=\"work_place\">경기 성남시 수정구</p>, <p class=\"work_place\">경기 하남시</p>, <p class=\"work_place\">서울 강남구</p>, <p class=\"work_place\">서울 중구</p>, <p class=\"work_place\">인천 부평구</p>, <p class=\"work_place\">경기 고양시 일산동구</p>, <p class=\"work_place\">서울 마포구</p>, <p class=\"work_place\">서울 마포구</p>, <p class=\"work_place\">서울 마포구</p>]\n",
      "[<p class=\"work_place\">서울 마포구</p>, <p class=\"work_place\">경기 성남시 분당구</p>, <p class=\"work_place\">서울 강남구</p>, <p class=\"work_place\">서울 금천구</p>, <p class=\"work_place\">서울 서대문구</p>, <p class=\"work_place\">서울 강남구</p>, <p class=\"work_place\">서울 강남구</p>, <p class=\"work_place\">경기 고양시 덕양구</p>, <p class=\"work_place\">서울 성동구</p>, <p class=\"work_place\">서울전체</p>, <p class=\"work_place\">서울전체</p>, <p class=\"work_place\">서울 양천구</p>, <p class=\"work_place\">경기 성남시 분당구</p>, <p class=\"work_place\">경기 안산시 단원구</p>, <p class=\"work_place\">서울 강남구</p>, <p class=\"work_place\">서울 금천구</p>, <p class=\"work_place\">서울 금천구</p>, <p class=\"work_place\">서울 금천구</p>, <p class=\"work_place\">서울 금천구</p>, <p class=\"work_place\">서울 금천구</p>, <p class=\"work_place\">경기 성남시 분당구</p>, <p class=\"work_place\">서울 영등포구</p>, <p class=\"work_place\">서울 마포구</p>, <p class=\"work_place\">서울 강남구</p>, <p class=\"work_place\">경기 성남시 분당구</p>, <p class=\"work_place\">경기 안양시 동안구</p>, <p class=\"work_place\">경기 고양시 일산서구</p>, <p class=\"work_place\">서울 용산구</p>, <p class=\"work_place\">서울 서초구</p>, <p class=\"work_place\">서울 영등포구</p>, <p class=\"work_place\">경기 성남시 분당구</p>, <p class=\"work_place\">서울전체</p>, <p class=\"work_place\">서울 금천구</p>, <p class=\"work_place\">서울 강남구</p>, <p class=\"work_place\">서울전체</p>, <p class=\"work_place\">경기 성남시 분당구</p>, <p class=\"work_place\">경기 성남시 분당구</p>, <p class=\"work_place\">서울 영등포구</p>, <p class=\"work_place\">서울 강남구</p>, <p class=\"work_place\">서울 강서구</p>, <p class=\"work_place\">서울 구로구</p>, <p class=\"work_place\">경기 성남시 수정구</p>, <p class=\"work_place\">경기 하남시</p>, <p class=\"work_place\">서울 강남구</p>, <p class=\"work_place\">서울 중구</p>, <p class=\"work_place\">인천 부평구</p>, <p class=\"work_place\">경기 고양시 일산동구</p>, <p class=\"work_place\">서울 마포구</p>, <p class=\"work_place\">서울 마포구</p>, <p class=\"work_place\">서울 마포구</p>]\n",
      "[<p class=\"work_place\">서울 마포구</p>, <p class=\"work_place\">경기 성남시 분당구</p>, <p class=\"work_place\">서울 강남구</p>, <p class=\"work_place\">서울 금천구</p>, <p class=\"work_place\">서울 서대문구</p>, <p class=\"work_place\">서울 강남구</p>, <p class=\"work_place\">서울 강남구</p>, <p class=\"work_place\">경기 고양시 덕양구</p>, <p class=\"work_place\">서울 성동구</p>, <p class=\"work_place\">서울전체</p>, <p class=\"work_place\">서울전체</p>, <p class=\"work_place\">서울 양천구</p>, <p class=\"work_place\">경기 성남시 분당구</p>, <p class=\"work_place\">경기 안산시 단원구</p>, <p class=\"work_place\">서울 강남구</p>, <p class=\"work_place\">서울 금천구</p>, <p class=\"work_place\">서울 금천구</p>, <p class=\"work_place\">서울 금천구</p>, <p class=\"work_place\">서울 금천구</p>, <p class=\"work_place\">서울 금천구</p>, <p class=\"work_place\">경기 성남시 분당구</p>, <p class=\"work_place\">서울 영등포구</p>, <p class=\"work_place\">서울 마포구</p>, <p class=\"work_place\">서울 강남구</p>, <p class=\"work_place\">경기 성남시 분당구</p>, <p class=\"work_place\">경기 안양시 동안구</p>, <p class=\"work_place\">경기 고양시 일산서구</p>, <p class=\"work_place\">서울 용산구</p>, <p class=\"work_place\">서울 서초구</p>, <p class=\"work_place\">서울 영등포구</p>, <p class=\"work_place\">경기 성남시 분당구</p>, <p class=\"work_place\">서울전체</p>, <p class=\"work_place\">서울 금천구</p>, <p class=\"work_place\">서울 강남구</p>, <p class=\"work_place\">서울전체</p>, <p class=\"work_place\">경기 성남시 분당구</p>, <p class=\"work_place\">경기 성남시 분당구</p>, <p class=\"work_place\">서울 영등포구</p>, <p class=\"work_place\">서울 강남구</p>, <p class=\"work_place\">서울 강서구</p>, <p class=\"work_place\">서울 구로구</p>, <p class=\"work_place\">경기 성남시 수정구</p>, <p class=\"work_place\">경기 하남시</p>, <p class=\"work_place\">서울 강남구</p>, <p class=\"work_place\">서울 중구</p>, <p class=\"work_place\">인천 부평구</p>, <p class=\"work_place\">경기 고양시 일산동구</p>, <p class=\"work_place\">서울 마포구</p>, <p class=\"work_place\">서울 마포구</p>, <p class=\"work_place\">서울 마포구</p>]\n",
      "[<p class=\"work_place\">서울 마포구</p>, <p class=\"work_place\">경기 성남시 분당구</p>, <p class=\"work_place\">서울 강남구</p>, <p class=\"work_place\">서울 금천구</p>, <p class=\"work_place\">서울 서대문구</p>, <p class=\"work_place\">서울 강남구</p>, <p class=\"work_place\">서울 강남구</p>, <p class=\"work_place\">경기 고양시 덕양구</p>, <p class=\"work_place\">서울 성동구</p>, <p class=\"work_place\">서울전체</p>, <p class=\"work_place\">서울전체</p>, <p class=\"work_place\">서울 양천구</p>, <p class=\"work_place\">경기 성남시 분당구</p>, <p class=\"work_place\">경기 안산시 단원구</p>, <p class=\"work_place\">서울 강남구</p>, <p class=\"work_place\">서울 금천구</p>, <p class=\"work_place\">서울 금천구</p>, <p class=\"work_place\">서울 금천구</p>, <p class=\"work_place\">서울 금천구</p>, <p class=\"work_place\">서울 금천구</p>, <p class=\"work_place\">경기 성남시 분당구</p>, <p class=\"work_place\">서울 영등포구</p>, <p class=\"work_place\">서울 마포구</p>, <p class=\"work_place\">서울 강남구</p>, <p class=\"work_place\">경기 성남시 분당구</p>, <p class=\"work_place\">경기 안양시 동안구</p>, <p class=\"work_place\">경기 고양시 일산서구</p>, <p class=\"work_place\">서울 용산구</p>, <p class=\"work_place\">서울 서초구</p>, <p class=\"work_place\">서울 영등포구</p>, <p class=\"work_place\">경기 성남시 분당구</p>, <p class=\"work_place\">서울전체</p>, <p class=\"work_place\">서울 금천구</p>, <p class=\"work_place\">서울 강남구</p>, <p class=\"work_place\">서울전체</p>, <p class=\"work_place\">경기 성남시 분당구</p>, <p class=\"work_place\">경기 성남시 분당구</p>, <p class=\"work_place\">서울 영등포구</p>, <p class=\"work_place\">서울 강남구</p>, <p class=\"work_place\">서울 강서구</p>, <p class=\"work_place\">서울 구로구</p>, <p class=\"work_place\">경기 성남시 수정구</p>, <p class=\"work_place\">경기 하남시</p>, <p class=\"work_place\">서울 강남구</p>, <p class=\"work_place\">서울 중구</p>, <p class=\"work_place\">인천 부평구</p>, <p class=\"work_place\">경기 고양시 일산동구</p>, <p class=\"work_place\">서울 마포구</p>, <p class=\"work_place\">서울 마포구</p>, <p class=\"work_place\">서울 마포구</p>]\n",
      "[<p class=\"work_place\">서울 마포구</p>, <p class=\"work_place\">경기 성남시 분당구</p>, <p class=\"work_place\">서울 강남구</p>, <p class=\"work_place\">서울 금천구</p>, <p class=\"work_place\">서울 서대문구</p>, <p class=\"work_place\">서울 강남구</p>, <p class=\"work_place\">서울 강남구</p>, <p class=\"work_place\">경기 고양시 덕양구</p>, <p class=\"work_place\">서울 성동구</p>, <p class=\"work_place\">서울전체</p>, <p class=\"work_place\">서울전체</p>, <p class=\"work_place\">서울 양천구</p>, <p class=\"work_place\">경기 성남시 분당구</p>, <p class=\"work_place\">경기 안산시 단원구</p>, <p class=\"work_place\">서울 강남구</p>, <p class=\"work_place\">서울 금천구</p>, <p class=\"work_place\">서울 금천구</p>, <p class=\"work_place\">서울 금천구</p>, <p class=\"work_place\">서울 금천구</p>, <p class=\"work_place\">서울 금천구</p>, <p class=\"work_place\">경기 성남시 분당구</p>, <p class=\"work_place\">서울 영등포구</p>, <p class=\"work_place\">서울 마포구</p>, <p class=\"work_place\">서울 강남구</p>, <p class=\"work_place\">경기 성남시 분당구</p>, <p class=\"work_place\">경기 안양시 동안구</p>, <p class=\"work_place\">경기 고양시 일산서구</p>, <p class=\"work_place\">서울 용산구</p>, <p class=\"work_place\">서울 서초구</p>, <p class=\"work_place\">서울 영등포구</p>, <p class=\"work_place\">경기 성남시 분당구</p>, <p class=\"work_place\">서울전체</p>, <p class=\"work_place\">서울 금천구</p>, <p class=\"work_place\">서울 강남구</p>, <p class=\"work_place\">서울전체</p>, <p class=\"work_place\">경기 성남시 분당구</p>, <p class=\"work_place\">경기 성남시 분당구</p>, <p class=\"work_place\">서울 영등포구</p>, <p class=\"work_place\">서울 강남구</p>, <p class=\"work_place\">서울 강서구</p>, <p class=\"work_place\">서울 구로구</p>, <p class=\"work_place\">경기 성남시 수정구</p>, <p class=\"work_place\">경기 하남시</p>, <p class=\"work_place\">서울 강남구</p>, <p class=\"work_place\">서울 중구</p>, <p class=\"work_place\">인천 부평구</p>, <p class=\"work_place\">경기 고양시 일산동구</p>, <p class=\"work_place\">서울 마포구</p>, <p class=\"work_place\">서울 마포구</p>, <p class=\"work_place\">서울 마포구</p>]\n",
      "[<p class=\"work_place\">서울 마포구</p>, <p class=\"work_place\">경기 성남시 분당구</p>, <p class=\"work_place\">서울 강남구</p>, <p class=\"work_place\">서울 금천구</p>, <p class=\"work_place\">서울 서대문구</p>, <p class=\"work_place\">서울 강남구</p>, <p class=\"work_place\">서울 강남구</p>, <p class=\"work_place\">경기 고양시 덕양구</p>, <p class=\"work_place\">서울 성동구</p>, <p class=\"work_place\">서울전체</p>, <p class=\"work_place\">서울전체</p>, <p class=\"work_place\">서울 양천구</p>, <p class=\"work_place\">경기 성남시 분당구</p>, <p class=\"work_place\">경기 안산시 단원구</p>, <p class=\"work_place\">서울 강남구</p>, <p class=\"work_place\">서울 금천구</p>, <p class=\"work_place\">서울 금천구</p>, <p class=\"work_place\">서울 금천구</p>, <p class=\"work_place\">서울 금천구</p>, <p class=\"work_place\">서울 금천구</p>, <p class=\"work_place\">경기 성남시 분당구</p>, <p class=\"work_place\">서울 영등포구</p>, <p class=\"work_place\">서울 마포구</p>, <p class=\"work_place\">서울 강남구</p>, <p class=\"work_place\">경기 성남시 분당구</p>, <p class=\"work_place\">경기 안양시 동안구</p>, <p class=\"work_place\">경기 고양시 일산서구</p>, <p class=\"work_place\">서울 용산구</p>, <p class=\"work_place\">서울 서초구</p>, <p class=\"work_place\">서울 영등포구</p>, <p class=\"work_place\">경기 성남시 분당구</p>, <p class=\"work_place\">서울전체</p>, <p class=\"work_place\">서울 금천구</p>, <p class=\"work_place\">서울 강남구</p>, <p class=\"work_place\">서울전체</p>, <p class=\"work_place\">경기 성남시 분당구</p>, <p class=\"work_place\">경기 성남시 분당구</p>, <p class=\"work_place\">서울 영등포구</p>, <p class=\"work_place\">서울 강남구</p>, <p class=\"work_place\">서울 강서구</p>, <p class=\"work_place\">서울 구로구</p>, <p class=\"work_place\">경기 성남시 수정구</p>, <p class=\"work_place\">경기 하남시</p>, <p class=\"work_place\">서울 강남구</p>, <p class=\"work_place\">서울 중구</p>, <p class=\"work_place\">인천 부평구</p>, <p class=\"work_place\">경기 고양시 일산동구</p>, <p class=\"work_place\">서울 마포구</p>, <p class=\"work_place\">서울 마포구</p>, <p class=\"work_place\">서울 마포구</p>]\n",
      "[<p class=\"work_place\">서울 마포구</p>, <p class=\"work_place\">경기 성남시 분당구</p>, <p class=\"work_place\">서울 강남구</p>, <p class=\"work_place\">서울 금천구</p>, <p class=\"work_place\">서울 서대문구</p>, <p class=\"work_place\">서울 강남구</p>, <p class=\"work_place\">서울 강남구</p>, <p class=\"work_place\">경기 고양시 덕양구</p>, <p class=\"work_place\">서울 성동구</p>, <p class=\"work_place\">서울전체</p>, <p class=\"work_place\">서울전체</p>, <p class=\"work_place\">서울 양천구</p>, <p class=\"work_place\">경기 성남시 분당구</p>, <p class=\"work_place\">경기 안산시 단원구</p>, <p class=\"work_place\">서울 강남구</p>, <p class=\"work_place\">서울 금천구</p>, <p class=\"work_place\">서울 금천구</p>, <p class=\"work_place\">서울 금천구</p>, <p class=\"work_place\">서울 금천구</p>, <p class=\"work_place\">서울 금천구</p>, <p class=\"work_place\">경기 성남시 분당구</p>, <p class=\"work_place\">서울 영등포구</p>, <p class=\"work_place\">서울 마포구</p>, <p class=\"work_place\">서울 강남구</p>, <p class=\"work_place\">경기 성남시 분당구</p>, <p class=\"work_place\">경기 안양시 동안구</p>, <p class=\"work_place\">경기 고양시 일산서구</p>, <p class=\"work_place\">서울 용산구</p>, <p class=\"work_place\">서울 서초구</p>, <p class=\"work_place\">서울 영등포구</p>, <p class=\"work_place\">경기 성남시 분당구</p>, <p class=\"work_place\">서울전체</p>, <p class=\"work_place\">서울 금천구</p>, <p class=\"work_place\">서울 강남구</p>, <p class=\"work_place\">서울전체</p>, <p class=\"work_place\">경기 성남시 분당구</p>, <p class=\"work_place\">경기 성남시 분당구</p>, <p class=\"work_place\">서울 영등포구</p>, <p class=\"work_place\">서울 강남구</p>, <p class=\"work_place\">서울 강서구</p>, <p class=\"work_place\">서울 구로구</p>, <p class=\"work_place\">경기 성남시 수정구</p>, <p class=\"work_place\">경기 하남시</p>, <p class=\"work_place\">서울 강남구</p>, <p class=\"work_place\">서울 중구</p>, <p class=\"work_place\">인천 부평구</p>, <p class=\"work_place\">경기 고양시 일산동구</p>, <p class=\"work_place\">서울 마포구</p>, <p class=\"work_place\">서울 마포구</p>, <p class=\"work_place\">서울 마포구</p>]\n",
      "[<p class=\"work_place\">서울 마포구</p>, <p class=\"work_place\">경기 성남시 분당구</p>, <p class=\"work_place\">서울 강남구</p>, <p class=\"work_place\">서울 금천구</p>, <p class=\"work_place\">서울 서대문구</p>, <p class=\"work_place\">서울 강남구</p>, <p class=\"work_place\">서울 강남구</p>, <p class=\"work_place\">경기 고양시 덕양구</p>, <p class=\"work_place\">서울 성동구</p>, <p class=\"work_place\">서울전체</p>, <p class=\"work_place\">서울전체</p>, <p class=\"work_place\">서울 양천구</p>, <p class=\"work_place\">경기 성남시 분당구</p>, <p class=\"work_place\">경기 안산시 단원구</p>, <p class=\"work_place\">서울 강남구</p>, <p class=\"work_place\">서울 금천구</p>, <p class=\"work_place\">서울 금천구</p>, <p class=\"work_place\">서울 금천구</p>, <p class=\"work_place\">서울 금천구</p>, <p class=\"work_place\">서울 금천구</p>, <p class=\"work_place\">경기 성남시 분당구</p>, <p class=\"work_place\">서울 영등포구</p>, <p class=\"work_place\">서울 마포구</p>, <p class=\"work_place\">서울 강남구</p>, <p class=\"work_place\">경기 성남시 분당구</p>, <p class=\"work_place\">경기 안양시 동안구</p>, <p class=\"work_place\">경기 고양시 일산서구</p>, <p class=\"work_place\">서울 용산구</p>, <p class=\"work_place\">서울 서초구</p>, <p class=\"work_place\">서울 영등포구</p>, <p class=\"work_place\">경기 성남시 분당구</p>, <p class=\"work_place\">서울전체</p>, <p class=\"work_place\">서울 금천구</p>, <p class=\"work_place\">서울 강남구</p>, <p class=\"work_place\">서울전체</p>, <p class=\"work_place\">경기 성남시 분당구</p>, <p class=\"work_place\">경기 성남시 분당구</p>, <p class=\"work_place\">서울 영등포구</p>, <p class=\"work_place\">서울 강남구</p>, <p class=\"work_place\">서울 강서구</p>, <p class=\"work_place\">서울 구로구</p>, <p class=\"work_place\">경기 성남시 수정구</p>, <p class=\"work_place\">경기 하남시</p>, <p class=\"work_place\">서울 강남구</p>, <p class=\"work_place\">서울 중구</p>, <p class=\"work_place\">인천 부평구</p>, <p class=\"work_place\">경기 고양시 일산동구</p>, <p class=\"work_place\">서울 마포구</p>, <p class=\"work_place\">서울 마포구</p>, <p class=\"work_place\">서울 마포구</p>]\n",
      "[<p class=\"work_place\">서울 마포구</p>, <p class=\"work_place\">경기 성남시 분당구</p>, <p class=\"work_place\">서울 강남구</p>, <p class=\"work_place\">서울 금천구</p>, <p class=\"work_place\">서울 서대문구</p>, <p class=\"work_place\">서울 강남구</p>, <p class=\"work_place\">서울 강남구</p>, <p class=\"work_place\">경기 고양시 덕양구</p>, <p class=\"work_place\">서울 성동구</p>, <p class=\"work_place\">서울전체</p>, <p class=\"work_place\">서울전체</p>, <p class=\"work_place\">서울 양천구</p>, <p class=\"work_place\">경기 성남시 분당구</p>, <p class=\"work_place\">경기 안산시 단원구</p>, <p class=\"work_place\">서울 강남구</p>, <p class=\"work_place\">서울 금천구</p>, <p class=\"work_place\">서울 금천구</p>, <p class=\"work_place\">서울 금천구</p>, <p class=\"work_place\">서울 금천구</p>, <p class=\"work_place\">서울 금천구</p>, <p class=\"work_place\">경기 성남시 분당구</p>, <p class=\"work_place\">서울 영등포구</p>, <p class=\"work_place\">서울 마포구</p>, <p class=\"work_place\">서울 강남구</p>, <p class=\"work_place\">경기 성남시 분당구</p>, <p class=\"work_place\">경기 안양시 동안구</p>, <p class=\"work_place\">경기 고양시 일산서구</p>, <p class=\"work_place\">서울 용산구</p>, <p class=\"work_place\">서울 서초구</p>, <p class=\"work_place\">서울 영등포구</p>, <p class=\"work_place\">경기 성남시 분당구</p>, <p class=\"work_place\">서울전체</p>, <p class=\"work_place\">서울 금천구</p>, <p class=\"work_place\">서울 강남구</p>, <p class=\"work_place\">서울전체</p>, <p class=\"work_place\">경기 성남시 분당구</p>, <p class=\"work_place\">경기 성남시 분당구</p>, <p class=\"work_place\">서울 영등포구</p>, <p class=\"work_place\">서울 강남구</p>, <p class=\"work_place\">서울 강서구</p>, <p class=\"work_place\">서울 구로구</p>, <p class=\"work_place\">경기 성남시 수정구</p>, <p class=\"work_place\">경기 하남시</p>, <p class=\"work_place\">서울 강남구</p>, <p class=\"work_place\">서울 중구</p>, <p class=\"work_place\">인천 부평구</p>, <p class=\"work_place\">경기 고양시 일산동구</p>, <p class=\"work_place\">서울 마포구</p>, <p class=\"work_place\">서울 마포구</p>, <p class=\"work_place\">서울 마포구</p>]\n",
      "[<p class=\"work_place\">서울 마포구</p>, <p class=\"work_place\">경기 성남시 분당구</p>, <p class=\"work_place\">서울 강남구</p>, <p class=\"work_place\">서울 금천구</p>, <p class=\"work_place\">서울 서대문구</p>, <p class=\"work_place\">서울 강남구</p>, <p class=\"work_place\">서울 강남구</p>, <p class=\"work_place\">경기 고양시 덕양구</p>, <p class=\"work_place\">서울 성동구</p>, <p class=\"work_place\">서울전체</p>, <p class=\"work_place\">서울전체</p>, <p class=\"work_place\">서울 양천구</p>, <p class=\"work_place\">경기 성남시 분당구</p>, <p class=\"work_place\">경기 안산시 단원구</p>, <p class=\"work_place\">서울 강남구</p>, <p class=\"work_place\">서울 금천구</p>, <p class=\"work_place\">서울 금천구</p>, <p class=\"work_place\">서울 금천구</p>, <p class=\"work_place\">서울 금천구</p>, <p class=\"work_place\">서울 금천구</p>, <p class=\"work_place\">경기 성남시 분당구</p>, <p class=\"work_place\">서울 영등포구</p>, <p class=\"work_place\">서울 마포구</p>, <p class=\"work_place\">서울 강남구</p>, <p class=\"work_place\">경기 성남시 분당구</p>, <p class=\"work_place\">경기 안양시 동안구</p>, <p class=\"work_place\">경기 고양시 일산서구</p>, <p class=\"work_place\">서울 용산구</p>, <p class=\"work_place\">서울 서초구</p>, <p class=\"work_place\">서울 영등포구</p>, <p class=\"work_place\">경기 성남시 분당구</p>, <p class=\"work_place\">서울전체</p>, <p class=\"work_place\">서울 금천구</p>, <p class=\"work_place\">서울 강남구</p>, <p class=\"work_place\">서울전체</p>, <p class=\"work_place\">경기 성남시 분당구</p>, <p class=\"work_place\">경기 성남시 분당구</p>, <p class=\"work_place\">서울 영등포구</p>, <p class=\"work_place\">서울 강남구</p>, <p class=\"work_place\">서울 강서구</p>, <p class=\"work_place\">서울 구로구</p>, <p class=\"work_place\">경기 성남시 수정구</p>, <p class=\"work_place\">경기 하남시</p>, <p class=\"work_place\">서울 강남구</p>, <p class=\"work_place\">서울 중구</p>, <p class=\"work_place\">인천 부평구</p>, <p class=\"work_place\">경기 고양시 일산동구</p>, <p class=\"work_place\">서울 마포구</p>, <p class=\"work_place\">서울 마포구</p>, <p class=\"work_place\">서울 마포구</p>]\n",
      "[<p class=\"work_place\">서울 마포구</p>, <p class=\"work_place\">경기 성남시 분당구</p>, <p class=\"work_place\">서울 강남구</p>, <p class=\"work_place\">서울 금천구</p>, <p class=\"work_place\">서울 서대문구</p>, <p class=\"work_place\">서울 강남구</p>, <p class=\"work_place\">서울 강남구</p>, <p class=\"work_place\">경기 고양시 덕양구</p>, <p class=\"work_place\">서울 성동구</p>, <p class=\"work_place\">서울전체</p>, <p class=\"work_place\">서울전체</p>, <p class=\"work_place\">서울 양천구</p>, <p class=\"work_place\">경기 성남시 분당구</p>, <p class=\"work_place\">경기 안산시 단원구</p>, <p class=\"work_place\">서울 강남구</p>, <p class=\"work_place\">서울 금천구</p>, <p class=\"work_place\">서울 금천구</p>, <p class=\"work_place\">서울 금천구</p>, <p class=\"work_place\">서울 금천구</p>, <p class=\"work_place\">서울 금천구</p>, <p class=\"work_place\">경기 성남시 분당구</p>, <p class=\"work_place\">서울 영등포구</p>, <p class=\"work_place\">서울 마포구</p>, <p class=\"work_place\">서울 강남구</p>, <p class=\"work_place\">경기 성남시 분당구</p>, <p class=\"work_place\">경기 안양시 동안구</p>, <p class=\"work_place\">경기 고양시 일산서구</p>, <p class=\"work_place\">서울 용산구</p>, <p class=\"work_place\">서울 서초구</p>, <p class=\"work_place\">서울 영등포구</p>, <p class=\"work_place\">경기 성남시 분당구</p>, <p class=\"work_place\">서울전체</p>, <p class=\"work_place\">서울 금천구</p>, <p class=\"work_place\">서울 강남구</p>, <p class=\"work_place\">서울전체</p>, <p class=\"work_place\">경기 성남시 분당구</p>, <p class=\"work_place\">경기 성남시 분당구</p>, <p class=\"work_place\">서울 영등포구</p>, <p class=\"work_place\">서울 강남구</p>, <p class=\"work_place\">서울 강서구</p>, <p class=\"work_place\">서울 구로구</p>, <p class=\"work_place\">경기 성남시 수정구</p>, <p class=\"work_place\">경기 하남시</p>, <p class=\"work_place\">서울 강남구</p>, <p class=\"work_place\">서울 중구</p>, <p class=\"work_place\">인천 부평구</p>, <p class=\"work_place\">경기 고양시 일산동구</p>, <p class=\"work_place\">서울 마포구</p>, <p class=\"work_place\">서울 마포구</p>, <p class=\"work_place\">서울 마포구</p>]\n",
      "[<p class=\"work_place\">서울 마포구</p>, <p class=\"work_place\">경기 성남시 분당구</p>, <p class=\"work_place\">서울 강남구</p>, <p class=\"work_place\">서울 금천구</p>, <p class=\"work_place\">서울 서대문구</p>, <p class=\"work_place\">서울 강남구</p>, <p class=\"work_place\">서울 강남구</p>, <p class=\"work_place\">경기 고양시 덕양구</p>, <p class=\"work_place\">서울 성동구</p>, <p class=\"work_place\">서울전체</p>, <p class=\"work_place\">서울전체</p>, <p class=\"work_place\">서울 양천구</p>, <p class=\"work_place\">경기 성남시 분당구</p>, <p class=\"work_place\">경기 안산시 단원구</p>, <p class=\"work_place\">서울 강남구</p>, <p class=\"work_place\">서울 금천구</p>, <p class=\"work_place\">서울 금천구</p>, <p class=\"work_place\">서울 금천구</p>, <p class=\"work_place\">서울 금천구</p>, <p class=\"work_place\">서울 금천구</p>, <p class=\"work_place\">경기 성남시 분당구</p>, <p class=\"work_place\">서울 영등포구</p>, <p class=\"work_place\">서울 마포구</p>, <p class=\"work_place\">서울 강남구</p>, <p class=\"work_place\">경기 성남시 분당구</p>, <p class=\"work_place\">경기 안양시 동안구</p>, <p class=\"work_place\">경기 고양시 일산서구</p>, <p class=\"work_place\">서울 용산구</p>, <p class=\"work_place\">서울 서초구</p>, <p class=\"work_place\">서울 영등포구</p>, <p class=\"work_place\">경기 성남시 분당구</p>, <p class=\"work_place\">서울전체</p>, <p class=\"work_place\">서울 금천구</p>, <p class=\"work_place\">서울 강남구</p>, <p class=\"work_place\">서울전체</p>, <p class=\"work_place\">경기 성남시 분당구</p>, <p class=\"work_place\">경기 성남시 분당구</p>, <p class=\"work_place\">서울 영등포구</p>, <p class=\"work_place\">서울 강남구</p>, <p class=\"work_place\">서울 강서구</p>, <p class=\"work_place\">서울 구로구</p>, <p class=\"work_place\">경기 성남시 수정구</p>, <p class=\"work_place\">경기 하남시</p>, <p class=\"work_place\">서울 강남구</p>, <p class=\"work_place\">서울 중구</p>, <p class=\"work_place\">인천 부평구</p>, <p class=\"work_place\">경기 고양시 일산동구</p>, <p class=\"work_place\">서울 마포구</p>, <p class=\"work_place\">서울 마포구</p>, <p class=\"work_place\">서울 마포구</p>]\n",
      "[<p class=\"work_place\">서울 마포구</p>, <p class=\"work_place\">경기 성남시 분당구</p>, <p class=\"work_place\">서울 강남구</p>, <p class=\"work_place\">서울 금천구</p>, <p class=\"work_place\">서울 서대문구</p>, <p class=\"work_place\">서울 강남구</p>, <p class=\"work_place\">서울 강남구</p>, <p class=\"work_place\">경기 고양시 덕양구</p>, <p class=\"work_place\">서울 성동구</p>, <p class=\"work_place\">서울전체</p>, <p class=\"work_place\">서울전체</p>, <p class=\"work_place\">서울 양천구</p>, <p class=\"work_place\">경기 성남시 분당구</p>, <p class=\"work_place\">경기 안산시 단원구</p>, <p class=\"work_place\">서울 강남구</p>, <p class=\"work_place\">서울 금천구</p>, <p class=\"work_place\">서울 금천구</p>, <p class=\"work_place\">서울 금천구</p>, <p class=\"work_place\">서울 금천구</p>, <p class=\"work_place\">서울 금천구</p>, <p class=\"work_place\">경기 성남시 분당구</p>, <p class=\"work_place\">서울 영등포구</p>, <p class=\"work_place\">서울 마포구</p>, <p class=\"work_place\">서울 강남구</p>, <p class=\"work_place\">경기 성남시 분당구</p>, <p class=\"work_place\">경기 안양시 동안구</p>, <p class=\"work_place\">경기 고양시 일산서구</p>, <p class=\"work_place\">서울 용산구</p>, <p class=\"work_place\">서울 서초구</p>, <p class=\"work_place\">서울 영등포구</p>, <p class=\"work_place\">경기 성남시 분당구</p>, <p class=\"work_place\">서울전체</p>, <p class=\"work_place\">서울 금천구</p>, <p class=\"work_place\">서울 강남구</p>, <p class=\"work_place\">서울전체</p>, <p class=\"work_place\">경기 성남시 분당구</p>, <p class=\"work_place\">경기 성남시 분당구</p>, <p class=\"work_place\">서울 영등포구</p>, <p class=\"work_place\">서울 강남구</p>, <p class=\"work_place\">서울 강서구</p>, <p class=\"work_place\">서울 구로구</p>, <p class=\"work_place\">경기 성남시 수정구</p>, <p class=\"work_place\">경기 하남시</p>, <p class=\"work_place\">서울 강남구</p>, <p class=\"work_place\">서울 중구</p>, <p class=\"work_place\">인천 부평구</p>, <p class=\"work_place\">경기 고양시 일산동구</p>, <p class=\"work_place\">서울 마포구</p>, <p class=\"work_place\">서울 마포구</p>, <p class=\"work_place\">서울 마포구</p>]\n",
      "[<p class=\"work_place\">서울 마포구</p>, <p class=\"work_place\">경기 성남시 분당구</p>, <p class=\"work_place\">서울 강남구</p>, <p class=\"work_place\">서울 금천구</p>, <p class=\"work_place\">서울 서대문구</p>, <p class=\"work_place\">서울 강남구</p>, <p class=\"work_place\">서울 강남구</p>, <p class=\"work_place\">경기 고양시 덕양구</p>, <p class=\"work_place\">서울 성동구</p>, <p class=\"work_place\">서울전체</p>, <p class=\"work_place\">서울전체</p>, <p class=\"work_place\">서울 양천구</p>, <p class=\"work_place\">경기 성남시 분당구</p>, <p class=\"work_place\">경기 안산시 단원구</p>, <p class=\"work_place\">서울 강남구</p>, <p class=\"work_place\">서울 금천구</p>, <p class=\"work_place\">서울 금천구</p>, <p class=\"work_place\">서울 금천구</p>, <p class=\"work_place\">서울 금천구</p>, <p class=\"work_place\">서울 금천구</p>, <p class=\"work_place\">경기 성남시 분당구</p>, <p class=\"work_place\">서울 영등포구</p>, <p class=\"work_place\">서울 마포구</p>, <p class=\"work_place\">서울 강남구</p>, <p class=\"work_place\">경기 성남시 분당구</p>, <p class=\"work_place\">경기 안양시 동안구</p>, <p class=\"work_place\">경기 고양시 일산서구</p>, <p class=\"work_place\">서울 용산구</p>, <p class=\"work_place\">서울 서초구</p>, <p class=\"work_place\">서울 영등포구</p>, <p class=\"work_place\">경기 성남시 분당구</p>, <p class=\"work_place\">서울전체</p>, <p class=\"work_place\">서울 금천구</p>, <p class=\"work_place\">서울 강남구</p>, <p class=\"work_place\">서울전체</p>, <p class=\"work_place\">경기 성남시 분당구</p>, <p class=\"work_place\">경기 성남시 분당구</p>, <p class=\"work_place\">서울 영등포구</p>, <p class=\"work_place\">서울 강남구</p>, <p class=\"work_place\">서울 강서구</p>, <p class=\"work_place\">서울 구로구</p>, <p class=\"work_place\">경기 성남시 수정구</p>, <p class=\"work_place\">경기 하남시</p>, <p class=\"work_place\">서울 강남구</p>, <p class=\"work_place\">서울 중구</p>, <p class=\"work_place\">인천 부평구</p>, <p class=\"work_place\">경기 고양시 일산동구</p>, <p class=\"work_place\">서울 마포구</p>, <p class=\"work_place\">서울 마포구</p>, <p class=\"work_place\">서울 마포구</p>]\n",
      "[<p class=\"work_place\">서울 마포구</p>, <p class=\"work_place\">경기 성남시 분당구</p>, <p class=\"work_place\">서울 강남구</p>, <p class=\"work_place\">서울 금천구</p>, <p class=\"work_place\">서울 서대문구</p>, <p class=\"work_place\">서울 강남구</p>, <p class=\"work_place\">서울 강남구</p>, <p class=\"work_place\">경기 고양시 덕양구</p>, <p class=\"work_place\">서울 성동구</p>, <p class=\"work_place\">서울전체</p>, <p class=\"work_place\">서울전체</p>, <p class=\"work_place\">서울 양천구</p>, <p class=\"work_place\">경기 성남시 분당구</p>, <p class=\"work_place\">경기 안산시 단원구</p>, <p class=\"work_place\">서울 강남구</p>, <p class=\"work_place\">서울 금천구</p>, <p class=\"work_place\">서울 금천구</p>, <p class=\"work_place\">서울 금천구</p>, <p class=\"work_place\">서울 금천구</p>, <p class=\"work_place\">서울 금천구</p>, <p class=\"work_place\">경기 성남시 분당구</p>, <p class=\"work_place\">서울 영등포구</p>, <p class=\"work_place\">서울 마포구</p>, <p class=\"work_place\">서울 강남구</p>, <p class=\"work_place\">경기 성남시 분당구</p>, <p class=\"work_place\">경기 안양시 동안구</p>, <p class=\"work_place\">경기 고양시 일산서구</p>, <p class=\"work_place\">서울 용산구</p>, <p class=\"work_place\">서울 서초구</p>, <p class=\"work_place\">서울 영등포구</p>, <p class=\"work_place\">경기 성남시 분당구</p>, <p class=\"work_place\">서울전체</p>, <p class=\"work_place\">서울 금천구</p>, <p class=\"work_place\">서울 강남구</p>, <p class=\"work_place\">서울전체</p>, <p class=\"work_place\">경기 성남시 분당구</p>, <p class=\"work_place\">경기 성남시 분당구</p>, <p class=\"work_place\">서울 영등포구</p>, <p class=\"work_place\">서울 강남구</p>, <p class=\"work_place\">서울 강서구</p>, <p class=\"work_place\">서울 구로구</p>, <p class=\"work_place\">경기 성남시 수정구</p>, <p class=\"work_place\">경기 하남시</p>, <p class=\"work_place\">서울 강남구</p>, <p class=\"work_place\">서울 중구</p>, <p class=\"work_place\">인천 부평구</p>, <p class=\"work_place\">경기 고양시 일산동구</p>, <p class=\"work_place\">서울 마포구</p>, <p class=\"work_place\">서울 마포구</p>, <p class=\"work_place\">서울 마포구</p>]\n",
      "[<p class=\"work_place\">서울 마포구</p>, <p class=\"work_place\">경기 성남시 분당구</p>, <p class=\"work_place\">서울 강남구</p>, <p class=\"work_place\">서울 금천구</p>, <p class=\"work_place\">서울 서대문구</p>, <p class=\"work_place\">서울 강남구</p>, <p class=\"work_place\">서울 강남구</p>, <p class=\"work_place\">경기 고양시 덕양구</p>, <p class=\"work_place\">서울 성동구</p>, <p class=\"work_place\">서울전체</p>, <p class=\"work_place\">서울전체</p>, <p class=\"work_place\">서울 양천구</p>, <p class=\"work_place\">경기 성남시 분당구</p>, <p class=\"work_place\">경기 안산시 단원구</p>, <p class=\"work_place\">서울 강남구</p>, <p class=\"work_place\">서울 금천구</p>, <p class=\"work_place\">서울 금천구</p>, <p class=\"work_place\">서울 금천구</p>, <p class=\"work_place\">서울 금천구</p>, <p class=\"work_place\">서울 금천구</p>, <p class=\"work_place\">경기 성남시 분당구</p>, <p class=\"work_place\">서울 영등포구</p>, <p class=\"work_place\">서울 마포구</p>, <p class=\"work_place\">서울 강남구</p>, <p class=\"work_place\">경기 성남시 분당구</p>, <p class=\"work_place\">경기 안양시 동안구</p>, <p class=\"work_place\">경기 고양시 일산서구</p>, <p class=\"work_place\">서울 용산구</p>, <p class=\"work_place\">서울 서초구</p>, <p class=\"work_place\">서울 영등포구</p>, <p class=\"work_place\">경기 성남시 분당구</p>, <p class=\"work_place\">서울전체</p>, <p class=\"work_place\">서울 금천구</p>, <p class=\"work_place\">서울 강남구</p>, <p class=\"work_place\">서울전체</p>, <p class=\"work_place\">경기 성남시 분당구</p>, <p class=\"work_place\">경기 성남시 분당구</p>, <p class=\"work_place\">서울 영등포구</p>, <p class=\"work_place\">서울 강남구</p>, <p class=\"work_place\">서울 강서구</p>, <p class=\"work_place\">서울 구로구</p>, <p class=\"work_place\">경기 성남시 수정구</p>, <p class=\"work_place\">경기 하남시</p>, <p class=\"work_place\">서울 강남구</p>, <p class=\"work_place\">서울 중구</p>, <p class=\"work_place\">인천 부평구</p>, <p class=\"work_place\">경기 고양시 일산동구</p>, <p class=\"work_place\">서울 마포구</p>, <p class=\"work_place\">서울 마포구</p>, <p class=\"work_place\">서울 마포구</p>]\n",
      "[<p class=\"work_place\">서울 마포구</p>, <p class=\"work_place\">경기 성남시 분당구</p>, <p class=\"work_place\">서울 강남구</p>, <p class=\"work_place\">서울 금천구</p>, <p class=\"work_place\">서울 서대문구</p>, <p class=\"work_place\">서울 강남구</p>, <p class=\"work_place\">서울 강남구</p>, <p class=\"work_place\">경기 고양시 덕양구</p>, <p class=\"work_place\">서울 성동구</p>, <p class=\"work_place\">서울전체</p>, <p class=\"work_place\">서울전체</p>, <p class=\"work_place\">서울 양천구</p>, <p class=\"work_place\">경기 성남시 분당구</p>, <p class=\"work_place\">경기 안산시 단원구</p>, <p class=\"work_place\">서울 강남구</p>, <p class=\"work_place\">서울 금천구</p>, <p class=\"work_place\">서울 금천구</p>, <p class=\"work_place\">서울 금천구</p>, <p class=\"work_place\">서울 금천구</p>, <p class=\"work_place\">서울 금천구</p>, <p class=\"work_place\">경기 성남시 분당구</p>, <p class=\"work_place\">서울 영등포구</p>, <p class=\"work_place\">서울 마포구</p>, <p class=\"work_place\">서울 강남구</p>, <p class=\"work_place\">경기 성남시 분당구</p>, <p class=\"work_place\">경기 안양시 동안구</p>, <p class=\"work_place\">경기 고양시 일산서구</p>, <p class=\"work_place\">서울 용산구</p>, <p class=\"work_place\">서울 서초구</p>, <p class=\"work_place\">서울 영등포구</p>, <p class=\"work_place\">경기 성남시 분당구</p>, <p class=\"work_place\">서울전체</p>, <p class=\"work_place\">서울 금천구</p>, <p class=\"work_place\">서울 강남구</p>, <p class=\"work_place\">서울전체</p>, <p class=\"work_place\">경기 성남시 분당구</p>, <p class=\"work_place\">경기 성남시 분당구</p>, <p class=\"work_place\">서울 영등포구</p>, <p class=\"work_place\">서울 강남구</p>, <p class=\"work_place\">서울 강서구</p>, <p class=\"work_place\">서울 구로구</p>, <p class=\"work_place\">경기 성남시 수정구</p>, <p class=\"work_place\">경기 하남시</p>, <p class=\"work_place\">서울 강남구</p>, <p class=\"work_place\">서울 중구</p>, <p class=\"work_place\">인천 부평구</p>, <p class=\"work_place\">경기 고양시 일산동구</p>, <p class=\"work_place\">서울 마포구</p>, <p class=\"work_place\">서울 마포구</p>, <p class=\"work_place\">서울 마포구</p>]\n",
      "[<p class=\"work_place\">서울 마포구</p>, <p class=\"work_place\">경기 성남시 분당구</p>, <p class=\"work_place\">서울 강남구</p>, <p class=\"work_place\">서울 금천구</p>, <p class=\"work_place\">서울 서대문구</p>, <p class=\"work_place\">서울 강남구</p>, <p class=\"work_place\">서울 강남구</p>, <p class=\"work_place\">경기 고양시 덕양구</p>, <p class=\"work_place\">서울 성동구</p>, <p class=\"work_place\">서울전체</p>, <p class=\"work_place\">서울전체</p>, <p class=\"work_place\">서울 양천구</p>, <p class=\"work_place\">경기 성남시 분당구</p>, <p class=\"work_place\">경기 안산시 단원구</p>, <p class=\"work_place\">서울 강남구</p>, <p class=\"work_place\">서울 금천구</p>, <p class=\"work_place\">서울 금천구</p>, <p class=\"work_place\">서울 금천구</p>, <p class=\"work_place\">서울 금천구</p>, <p class=\"work_place\">서울 금천구</p>, <p class=\"work_place\">경기 성남시 분당구</p>, <p class=\"work_place\">서울 영등포구</p>, <p class=\"work_place\">서울 마포구</p>, <p class=\"work_place\">서울 강남구</p>, <p class=\"work_place\">경기 성남시 분당구</p>, <p class=\"work_place\">경기 안양시 동안구</p>, <p class=\"work_place\">경기 고양시 일산서구</p>, <p class=\"work_place\">서울 용산구</p>, <p class=\"work_place\">서울 서초구</p>, <p class=\"work_place\">서울 영등포구</p>, <p class=\"work_place\">경기 성남시 분당구</p>, <p class=\"work_place\">서울전체</p>, <p class=\"work_place\">서울 금천구</p>, <p class=\"work_place\">서울 강남구</p>, <p class=\"work_place\">서울전체</p>, <p class=\"work_place\">경기 성남시 분당구</p>, <p class=\"work_place\">경기 성남시 분당구</p>, <p class=\"work_place\">서울 영등포구</p>, <p class=\"work_place\">서울 강남구</p>, <p class=\"work_place\">서울 강서구</p>, <p class=\"work_place\">서울 구로구</p>, <p class=\"work_place\">경기 성남시 수정구</p>, <p class=\"work_place\">경기 하남시</p>, <p class=\"work_place\">서울 강남구</p>, <p class=\"work_place\">서울 중구</p>, <p class=\"work_place\">인천 부평구</p>, <p class=\"work_place\">경기 고양시 일산동구</p>, <p class=\"work_place\">서울 마포구</p>, <p class=\"work_place\">서울 마포구</p>, <p class=\"work_place\">서울 마포구</p>]\n",
      "[<p class=\"work_place\">서울 마포구</p>, <p class=\"work_place\">경기 성남시 분당구</p>, <p class=\"work_place\">서울 강남구</p>, <p class=\"work_place\">서울 금천구</p>, <p class=\"work_place\">서울 서대문구</p>, <p class=\"work_place\">서울 강남구</p>, <p class=\"work_place\">서울 강남구</p>, <p class=\"work_place\">경기 고양시 덕양구</p>, <p class=\"work_place\">서울 성동구</p>, <p class=\"work_place\">서울전체</p>, <p class=\"work_place\">서울전체</p>, <p class=\"work_place\">서울 양천구</p>, <p class=\"work_place\">경기 성남시 분당구</p>, <p class=\"work_place\">경기 안산시 단원구</p>, <p class=\"work_place\">서울 강남구</p>, <p class=\"work_place\">서울 금천구</p>, <p class=\"work_place\">서울 금천구</p>, <p class=\"work_place\">서울 금천구</p>, <p class=\"work_place\">서울 금천구</p>, <p class=\"work_place\">서울 금천구</p>, <p class=\"work_place\">경기 성남시 분당구</p>, <p class=\"work_place\">서울 영등포구</p>, <p class=\"work_place\">서울 마포구</p>, <p class=\"work_place\">서울 강남구</p>, <p class=\"work_place\">경기 성남시 분당구</p>, <p class=\"work_place\">경기 안양시 동안구</p>, <p class=\"work_place\">경기 고양시 일산서구</p>, <p class=\"work_place\">서울 용산구</p>, <p class=\"work_place\">서울 서초구</p>, <p class=\"work_place\">서울 영등포구</p>, <p class=\"work_place\">경기 성남시 분당구</p>, <p class=\"work_place\">서울전체</p>, <p class=\"work_place\">서울 금천구</p>, <p class=\"work_place\">서울 강남구</p>, <p class=\"work_place\">서울전체</p>, <p class=\"work_place\">경기 성남시 분당구</p>, <p class=\"work_place\">경기 성남시 분당구</p>, <p class=\"work_place\">서울 영등포구</p>, <p class=\"work_place\">서울 강남구</p>, <p class=\"work_place\">서울 강서구</p>, <p class=\"work_place\">서울 구로구</p>, <p class=\"work_place\">경기 성남시 수정구</p>, <p class=\"work_place\">경기 하남시</p>, <p class=\"work_place\">서울 강남구</p>, <p class=\"work_place\">서울 중구</p>, <p class=\"work_place\">인천 부평구</p>, <p class=\"work_place\">경기 고양시 일산동구</p>, <p class=\"work_place\">서울 마포구</p>, <p class=\"work_place\">서울 마포구</p>, <p class=\"work_place\">서울 마포구</p>]\n",
      "[<p class=\"work_place\">서울 마포구</p>, <p class=\"work_place\">경기 성남시 분당구</p>, <p class=\"work_place\">서울 강남구</p>, <p class=\"work_place\">서울 금천구</p>, <p class=\"work_place\">서울 서대문구</p>, <p class=\"work_place\">서울 강남구</p>, <p class=\"work_place\">서울 강남구</p>, <p class=\"work_place\">경기 고양시 덕양구</p>, <p class=\"work_place\">서울 성동구</p>, <p class=\"work_place\">서울전체</p>, <p class=\"work_place\">서울전체</p>, <p class=\"work_place\">서울 양천구</p>, <p class=\"work_place\">경기 성남시 분당구</p>, <p class=\"work_place\">경기 안산시 단원구</p>, <p class=\"work_place\">서울 강남구</p>, <p class=\"work_place\">서울 금천구</p>, <p class=\"work_place\">서울 금천구</p>, <p class=\"work_place\">서울 금천구</p>, <p class=\"work_place\">서울 금천구</p>, <p class=\"work_place\">서울 금천구</p>, <p class=\"work_place\">경기 성남시 분당구</p>, <p class=\"work_place\">서울 영등포구</p>, <p class=\"work_place\">서울 마포구</p>, <p class=\"work_place\">서울 강남구</p>, <p class=\"work_place\">경기 성남시 분당구</p>, <p class=\"work_place\">경기 안양시 동안구</p>, <p class=\"work_place\">경기 고양시 일산서구</p>, <p class=\"work_place\">서울 용산구</p>, <p class=\"work_place\">서울 서초구</p>, <p class=\"work_place\">서울 영등포구</p>, <p class=\"work_place\">경기 성남시 분당구</p>, <p class=\"work_place\">서울전체</p>, <p class=\"work_place\">서울 금천구</p>, <p class=\"work_place\">서울 강남구</p>, <p class=\"work_place\">서울전체</p>, <p class=\"work_place\">경기 성남시 분당구</p>, <p class=\"work_place\">경기 성남시 분당구</p>, <p class=\"work_place\">서울 영등포구</p>, <p class=\"work_place\">서울 강남구</p>, <p class=\"work_place\">서울 강서구</p>, <p class=\"work_place\">서울 구로구</p>, <p class=\"work_place\">경기 성남시 수정구</p>, <p class=\"work_place\">경기 하남시</p>, <p class=\"work_place\">서울 강남구</p>, <p class=\"work_place\">서울 중구</p>, <p class=\"work_place\">인천 부평구</p>, <p class=\"work_place\">경기 고양시 일산동구</p>, <p class=\"work_place\">서울 마포구</p>, <p class=\"work_place\">서울 마포구</p>, <p class=\"work_place\">서울 마포구</p>]\n",
      "[<p class=\"work_place\">서울 마포구</p>, <p class=\"work_place\">경기 성남시 분당구</p>, <p class=\"work_place\">서울 강남구</p>, <p class=\"work_place\">서울 금천구</p>, <p class=\"work_place\">서울 서대문구</p>, <p class=\"work_place\">서울 강남구</p>, <p class=\"work_place\">서울 강남구</p>, <p class=\"work_place\">경기 고양시 덕양구</p>, <p class=\"work_place\">서울 성동구</p>, <p class=\"work_place\">서울전체</p>, <p class=\"work_place\">서울전체</p>, <p class=\"work_place\">서울 양천구</p>, <p class=\"work_place\">경기 성남시 분당구</p>, <p class=\"work_place\">경기 안산시 단원구</p>, <p class=\"work_place\">서울 강남구</p>, <p class=\"work_place\">서울 금천구</p>, <p class=\"work_place\">서울 금천구</p>, <p class=\"work_place\">서울 금천구</p>, <p class=\"work_place\">서울 금천구</p>, <p class=\"work_place\">서울 금천구</p>, <p class=\"work_place\">경기 성남시 분당구</p>, <p class=\"work_place\">서울 영등포구</p>, <p class=\"work_place\">서울 마포구</p>, <p class=\"work_place\">서울 강남구</p>, <p class=\"work_place\">경기 성남시 분당구</p>, <p class=\"work_place\">경기 안양시 동안구</p>, <p class=\"work_place\">경기 고양시 일산서구</p>, <p class=\"work_place\">서울 용산구</p>, <p class=\"work_place\">서울 서초구</p>, <p class=\"work_place\">서울 영등포구</p>, <p class=\"work_place\">경기 성남시 분당구</p>, <p class=\"work_place\">서울전체</p>, <p class=\"work_place\">서울 금천구</p>, <p class=\"work_place\">서울 강남구</p>, <p class=\"work_place\">서울전체</p>, <p class=\"work_place\">경기 성남시 분당구</p>, <p class=\"work_place\">경기 성남시 분당구</p>, <p class=\"work_place\">서울 영등포구</p>, <p class=\"work_place\">서울 강남구</p>, <p class=\"work_place\">서울 강서구</p>, <p class=\"work_place\">서울 구로구</p>, <p class=\"work_place\">경기 성남시 수정구</p>, <p class=\"work_place\">경기 하남시</p>, <p class=\"work_place\">서울 강남구</p>, <p class=\"work_place\">서울 중구</p>, <p class=\"work_place\">인천 부평구</p>, <p class=\"work_place\">경기 고양시 일산동구</p>, <p class=\"work_place\">서울 마포구</p>, <p class=\"work_place\">서울 마포구</p>, <p class=\"work_place\">서울 마포구</p>]\n",
      "[<p class=\"work_place\">서울 마포구</p>, <p class=\"work_place\">경기 성남시 분당구</p>, <p class=\"work_place\">서울 강남구</p>, <p class=\"work_place\">서울 금천구</p>, <p class=\"work_place\">서울 서대문구</p>, <p class=\"work_place\">서울 강남구</p>, <p class=\"work_place\">서울 강남구</p>, <p class=\"work_place\">경기 고양시 덕양구</p>, <p class=\"work_place\">서울 성동구</p>, <p class=\"work_place\">서울전체</p>, <p class=\"work_place\">서울전체</p>, <p class=\"work_place\">서울 양천구</p>, <p class=\"work_place\">경기 성남시 분당구</p>, <p class=\"work_place\">경기 안산시 단원구</p>, <p class=\"work_place\">서울 강남구</p>, <p class=\"work_place\">서울 금천구</p>, <p class=\"work_place\">서울 금천구</p>, <p class=\"work_place\">서울 금천구</p>, <p class=\"work_place\">서울 금천구</p>, <p class=\"work_place\">서울 금천구</p>, <p class=\"work_place\">경기 성남시 분당구</p>, <p class=\"work_place\">서울 영등포구</p>, <p class=\"work_place\">서울 마포구</p>, <p class=\"work_place\">서울 강남구</p>, <p class=\"work_place\">경기 성남시 분당구</p>, <p class=\"work_place\">경기 안양시 동안구</p>, <p class=\"work_place\">경기 고양시 일산서구</p>, <p class=\"work_place\">서울 용산구</p>, <p class=\"work_place\">서울 서초구</p>, <p class=\"work_place\">서울 영등포구</p>, <p class=\"work_place\">경기 성남시 분당구</p>, <p class=\"work_place\">서울전체</p>, <p class=\"work_place\">서울 금천구</p>, <p class=\"work_place\">서울 강남구</p>, <p class=\"work_place\">서울전체</p>, <p class=\"work_place\">경기 성남시 분당구</p>, <p class=\"work_place\">경기 성남시 분당구</p>, <p class=\"work_place\">서울 영등포구</p>, <p class=\"work_place\">서울 강남구</p>, <p class=\"work_place\">서울 강서구</p>, <p class=\"work_place\">서울 구로구</p>, <p class=\"work_place\">경기 성남시 수정구</p>, <p class=\"work_place\">경기 하남시</p>, <p class=\"work_place\">서울 강남구</p>, <p class=\"work_place\">서울 중구</p>, <p class=\"work_place\">인천 부평구</p>, <p class=\"work_place\">경기 고양시 일산동구</p>, <p class=\"work_place\">서울 마포구</p>, <p class=\"work_place\">서울 마포구</p>, <p class=\"work_place\">서울 마포구</p>]\n",
      "[<p class=\"work_place\">서울 마포구</p>, <p class=\"work_place\">경기 성남시 분당구</p>, <p class=\"work_place\">서울 강남구</p>, <p class=\"work_place\">서울 금천구</p>, <p class=\"work_place\">서울 서대문구</p>, <p class=\"work_place\">서울 강남구</p>, <p class=\"work_place\">서울 강남구</p>, <p class=\"work_place\">경기 고양시 덕양구</p>, <p class=\"work_place\">서울 성동구</p>, <p class=\"work_place\">서울전체</p>, <p class=\"work_place\">서울전체</p>, <p class=\"work_place\">서울 양천구</p>, <p class=\"work_place\">경기 성남시 분당구</p>, <p class=\"work_place\">경기 안산시 단원구</p>, <p class=\"work_place\">서울 강남구</p>, <p class=\"work_place\">서울 금천구</p>, <p class=\"work_place\">서울 금천구</p>, <p class=\"work_place\">서울 금천구</p>, <p class=\"work_place\">서울 금천구</p>, <p class=\"work_place\">서울 금천구</p>, <p class=\"work_place\">경기 성남시 분당구</p>, <p class=\"work_place\">서울 영등포구</p>, <p class=\"work_place\">서울 마포구</p>, <p class=\"work_place\">서울 강남구</p>, <p class=\"work_place\">경기 성남시 분당구</p>, <p class=\"work_place\">경기 안양시 동안구</p>, <p class=\"work_place\">경기 고양시 일산서구</p>, <p class=\"work_place\">서울 용산구</p>, <p class=\"work_place\">서울 서초구</p>, <p class=\"work_place\">서울 영등포구</p>, <p class=\"work_place\">경기 성남시 분당구</p>, <p class=\"work_place\">서울전체</p>, <p class=\"work_place\">서울 금천구</p>, <p class=\"work_place\">서울 강남구</p>, <p class=\"work_place\">서울전체</p>, <p class=\"work_place\">경기 성남시 분당구</p>, <p class=\"work_place\">경기 성남시 분당구</p>, <p class=\"work_place\">서울 영등포구</p>, <p class=\"work_place\">서울 강남구</p>, <p class=\"work_place\">서울 강서구</p>, <p class=\"work_place\">서울 구로구</p>, <p class=\"work_place\">경기 성남시 수정구</p>, <p class=\"work_place\">경기 하남시</p>, <p class=\"work_place\">서울 강남구</p>, <p class=\"work_place\">서울 중구</p>, <p class=\"work_place\">인천 부평구</p>, <p class=\"work_place\">경기 고양시 일산동구</p>, <p class=\"work_place\">서울 마포구</p>, <p class=\"work_place\">서울 마포구</p>, <p class=\"work_place\">서울 마포구</p>]\n",
      "[<p class=\"work_place\">서울 마포구</p>, <p class=\"work_place\">경기 성남시 분당구</p>, <p class=\"work_place\">서울 강남구</p>, <p class=\"work_place\">서울 금천구</p>, <p class=\"work_place\">서울 서대문구</p>, <p class=\"work_place\">서울 강남구</p>, <p class=\"work_place\">서울 강남구</p>, <p class=\"work_place\">경기 고양시 덕양구</p>, <p class=\"work_place\">서울 성동구</p>, <p class=\"work_place\">서울전체</p>, <p class=\"work_place\">서울전체</p>, <p class=\"work_place\">서울 양천구</p>, <p class=\"work_place\">경기 성남시 분당구</p>, <p class=\"work_place\">경기 안산시 단원구</p>, <p class=\"work_place\">서울 강남구</p>, <p class=\"work_place\">서울 금천구</p>, <p class=\"work_place\">서울 금천구</p>, <p class=\"work_place\">서울 금천구</p>, <p class=\"work_place\">서울 금천구</p>, <p class=\"work_place\">서울 금천구</p>, <p class=\"work_place\">경기 성남시 분당구</p>, <p class=\"work_place\">서울 영등포구</p>, <p class=\"work_place\">서울 마포구</p>, <p class=\"work_place\">서울 강남구</p>, <p class=\"work_place\">경기 성남시 분당구</p>, <p class=\"work_place\">경기 안양시 동안구</p>, <p class=\"work_place\">경기 고양시 일산서구</p>, <p class=\"work_place\">서울 용산구</p>, <p class=\"work_place\">서울 서초구</p>, <p class=\"work_place\">서울 영등포구</p>, <p class=\"work_place\">경기 성남시 분당구</p>, <p class=\"work_place\">서울전체</p>, <p class=\"work_place\">서울 금천구</p>, <p class=\"work_place\">서울 강남구</p>, <p class=\"work_place\">서울전체</p>, <p class=\"work_place\">경기 성남시 분당구</p>, <p class=\"work_place\">경기 성남시 분당구</p>, <p class=\"work_place\">서울 영등포구</p>, <p class=\"work_place\">서울 강남구</p>, <p class=\"work_place\">서울 강서구</p>, <p class=\"work_place\">서울 구로구</p>, <p class=\"work_place\">경기 성남시 수정구</p>, <p class=\"work_place\">경기 하남시</p>, <p class=\"work_place\">서울 강남구</p>, <p class=\"work_place\">서울 중구</p>, <p class=\"work_place\">인천 부평구</p>, <p class=\"work_place\">경기 고양시 일산동구</p>, <p class=\"work_place\">서울 마포구</p>, <p class=\"work_place\">서울 마포구</p>, <p class=\"work_place\">서울 마포구</p>]\n",
      "[<p class=\"work_place\">서울 마포구</p>, <p class=\"work_place\">경기 성남시 분당구</p>, <p class=\"work_place\">서울 강남구</p>, <p class=\"work_place\">서울 금천구</p>, <p class=\"work_place\">서울 서대문구</p>, <p class=\"work_place\">서울 강남구</p>, <p class=\"work_place\">서울 강남구</p>, <p class=\"work_place\">경기 고양시 덕양구</p>, <p class=\"work_place\">서울 성동구</p>, <p class=\"work_place\">서울전체</p>, <p class=\"work_place\">서울전체</p>, <p class=\"work_place\">서울 양천구</p>, <p class=\"work_place\">경기 성남시 분당구</p>, <p class=\"work_place\">경기 안산시 단원구</p>, <p class=\"work_place\">서울 강남구</p>, <p class=\"work_place\">서울 금천구</p>, <p class=\"work_place\">서울 금천구</p>, <p class=\"work_place\">서울 금천구</p>, <p class=\"work_place\">서울 금천구</p>, <p class=\"work_place\">서울 금천구</p>, <p class=\"work_place\">경기 성남시 분당구</p>, <p class=\"work_place\">서울 영등포구</p>, <p class=\"work_place\">서울 마포구</p>, <p class=\"work_place\">서울 강남구</p>, <p class=\"work_place\">경기 성남시 분당구</p>, <p class=\"work_place\">경기 안양시 동안구</p>, <p class=\"work_place\">경기 고양시 일산서구</p>, <p class=\"work_place\">서울 용산구</p>, <p class=\"work_place\">서울 서초구</p>, <p class=\"work_place\">서울 영등포구</p>, <p class=\"work_place\">경기 성남시 분당구</p>, <p class=\"work_place\">서울전체</p>, <p class=\"work_place\">서울 금천구</p>, <p class=\"work_place\">서울 강남구</p>, <p class=\"work_place\">서울전체</p>, <p class=\"work_place\">경기 성남시 분당구</p>, <p class=\"work_place\">경기 성남시 분당구</p>, <p class=\"work_place\">서울 영등포구</p>, <p class=\"work_place\">서울 강남구</p>, <p class=\"work_place\">서울 강서구</p>, <p class=\"work_place\">서울 구로구</p>, <p class=\"work_place\">경기 성남시 수정구</p>, <p class=\"work_place\">경기 하남시</p>, <p class=\"work_place\">서울 강남구</p>, <p class=\"work_place\">서울 중구</p>, <p class=\"work_place\">인천 부평구</p>, <p class=\"work_place\">경기 고양시 일산동구</p>, <p class=\"work_place\">서울 마포구</p>, <p class=\"work_place\">서울 마포구</p>, <p class=\"work_place\">서울 마포구</p>]\n",
      "[<p class=\"work_place\">서울 마포구</p>, <p class=\"work_place\">경기 성남시 분당구</p>, <p class=\"work_place\">서울 강남구</p>, <p class=\"work_place\">서울 금천구</p>, <p class=\"work_place\">서울 서대문구</p>, <p class=\"work_place\">서울 강남구</p>, <p class=\"work_place\">서울 강남구</p>, <p class=\"work_place\">경기 고양시 덕양구</p>, <p class=\"work_place\">서울 성동구</p>, <p class=\"work_place\">서울전체</p>, <p class=\"work_place\">서울전체</p>, <p class=\"work_place\">서울 양천구</p>, <p class=\"work_place\">경기 성남시 분당구</p>, <p class=\"work_place\">경기 안산시 단원구</p>, <p class=\"work_place\">서울 강남구</p>, <p class=\"work_place\">서울 금천구</p>, <p class=\"work_place\">서울 금천구</p>, <p class=\"work_place\">서울 금천구</p>, <p class=\"work_place\">서울 금천구</p>, <p class=\"work_place\">서울 금천구</p>, <p class=\"work_place\">경기 성남시 분당구</p>, <p class=\"work_place\">서울 영등포구</p>, <p class=\"work_place\">서울 마포구</p>, <p class=\"work_place\">서울 강남구</p>, <p class=\"work_place\">경기 성남시 분당구</p>, <p class=\"work_place\">경기 안양시 동안구</p>, <p class=\"work_place\">경기 고양시 일산서구</p>, <p class=\"work_place\">서울 용산구</p>, <p class=\"work_place\">서울 서초구</p>, <p class=\"work_place\">서울 영등포구</p>, <p class=\"work_place\">경기 성남시 분당구</p>, <p class=\"work_place\">서울전체</p>, <p class=\"work_place\">서울 금천구</p>, <p class=\"work_place\">서울 강남구</p>, <p class=\"work_place\">서울전체</p>, <p class=\"work_place\">경기 성남시 분당구</p>, <p class=\"work_place\">경기 성남시 분당구</p>, <p class=\"work_place\">서울 영등포구</p>, <p class=\"work_place\">서울 강남구</p>, <p class=\"work_place\">서울 강서구</p>, <p class=\"work_place\">서울 구로구</p>, <p class=\"work_place\">경기 성남시 수정구</p>, <p class=\"work_place\">경기 하남시</p>, <p class=\"work_place\">서울 강남구</p>, <p class=\"work_place\">서울 중구</p>, <p class=\"work_place\">인천 부평구</p>, <p class=\"work_place\">경기 고양시 일산동구</p>, <p class=\"work_place\">서울 마포구</p>, <p class=\"work_place\">서울 마포구</p>, <p class=\"work_place\">서울 마포구</p>]\n"
     ]
    }
   ],
   "source": [
    "for i, address in enumerate(work_place):\n",
    "    button = driver.find_element_by_work_place('a')\n",
    "    if len(work_place[i]) == '서울전체': \n",
    "    \n",
    "    if len(work_place[i]) == '경기 전체':\n",
    "        \n",
    "    print(work_place)\n",
    "    \n",
    "    \n",
    "    \n"
   ]
  },
  {
   "cell_type": "code",
   "execution_count": null,
   "id": "fa7b6066",
   "metadata": {},
   "outputs": [],
   "source": []
  }
 ],
 "metadata": {
  "kernelspec": {
   "display_name": "Python 3 (ipykernel)",
   "language": "python",
   "name": "python3"
  },
  "language_info": {
   "codemirror_mode": {
    "name": "ipython",
    "version": 3
   },
   "file_extension": ".py",
   "mimetype": "text/x-python",
   "name": "python",
   "nbconvert_exporter": "python",
   "pygments_lexer": "ipython3",
   "version": "3.8.12"
  }
 },
 "nbformat": 4,
 "nbformat_minor": 5
}
